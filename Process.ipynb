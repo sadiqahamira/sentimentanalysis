{
 "cells": [
  {
   "cell_type": "markdown",
   "metadata": {},
   "source": [
    "# Algorithm comparison & Results\n",
    "1. Load dataset \n",
    "2. Explore data\n",
    "3. Prepare data\n",
    "4. Build model\n",
    "5. Parameter optimization - two highest accuracy algorithm \n",
    "6. T-test(paired sample) - compare highest two algorithm \n"
   ]
  },
  {
   "cell_type": "code",
   "execution_count": 2,
   "metadata": {},
   "outputs": [],
   "source": [
    "__all__ = ['load_data', 'clean_text', 'preprocess_corpus', 'encode_labels', 'compute_tfidf', 'train_test_model']\n",
    "\n",
    "import os\n",
    "import time\n",
    "import re\n",
    "import numpy as np\n",
    "import pandas as pd\n",
    "import matplotlib.pyplot as plt\n",
    "from tqdm import tqdm\n",
    "\n",
    "from sklearn.feature_extraction.text import CountVectorizer, TfidfVectorizer\n",
    "from sklearn import preprocessing\n",
    "from sklearn.model_selection import train_test_split, StratifiedKFold, KFold\n",
    "\n",
    "from sklearn import ensemble\n",
    "from sklearn.naive_bayes import MultinomialNB\n",
    "from sklearn.linear_model import SGDClassifier\n",
    "from sklearn.linear_model import LogisticRegression\n",
    "from sklearn.svm import LinearSVC\n",
    "from sklearn.svm import SVC\n",
    "from sklearn.ensemble import RandomForestClassifier, GradientBoostingClassifier\n",
    "\n",
    "from sklearn.metrics import classification_report\n",
    "from sklearn.model_selection import cross_val_score\n",
    "from sklearn.metrics import confusion_matrix\n",
    "from sklearn.metrics import plot_confusion_matrix\n",
    "from sklearn.metrics import precision_recall_fscore_support as score"
   ]
  },
  {
   "cell_type": "code",
   "execution_count": 3,
   "metadata": {},
   "outputs": [],
   "source": [
    "def load_data(file_path):\n",
    "    \"\"\" Load the csv file and return a Dataframe. \"\"\"\n",
    "    df = pd.read_csv(file_path, delimiter=',')\n",
    "    return df\n",
    "\n",
    "def clean_text(text):\n",
    "    \"\"\" clean the text by removing special characters, punctuations, etc. \"\"\"\n",
    "    text = text.lower()\n",
    "    remove_xx_seq  = re.compile('xx+')\n",
    "    replace_by_space = re.compile('[/(){}\\[\\]\\|@,;]')\n",
    "    remove_special_characters = re.compile('[^0-9a-z +]')\n",
    "    remove_extra_space = re.compile('[^A-Za-z0-9]+')\n",
    "    remove_numbers = re.compile('[0-9]+')\n",
    "    text = re.sub(remove_xx_seq, ' ', text)\n",
    "    text = re.sub(replace_by_space, ' ', text)\n",
    "    text = re.sub(remove_special_characters, ' ', text)\n",
    "    text = re.sub(remove_numbers, ' ', text)\n",
    "    text = re.sub(remove_extra_space, ' ', text)\n",
    "    return text.strip()\n",
    "\n",
    "\n",
    "def preprocess_corpus(df, column='text'):\n",
    "    \"\"\" Preprocess the entire corpus including cleaning the text documents and return the updated dataframe. \"\"\"\n",
    "    df[column] = df[column].apply(clean_text)\n",
    "    return df\n",
    "\n",
    "def encode_labels(labels):\n",
    "    \"\"\" Encode the class labels into a numbers. \"\"\"\n",
    "    label_encoder = preprocessing.LabelEncoder()\n",
    "    label_encoder.fit(labels)\n",
    "    return label_encoder\n",
    "\n",
    "def compute_tfidf(corpus, stop_words='english', ngram_range=(1, 1), max_features=None):\n",
    "    \"\"\" Calculate the tfidf features for all the text documents and return a (documents, fatures) matrix. \"\"\"\n",
    "    vectorizer = TfidfVectorizer(input='content', stop_words=stop_words, ngram_range=ngram_range, min_df=3, max_df=0.9, max_features=max_features)\n",
    "    print('Computing tfidf features...', end='')\n",
    "    X = vectorizer.fit_transform(corpus)\n",
    "    print('done!')\n",
    "    return X, vectorizer\n",
    "\n",
    "\n",
    "def train_test_model(model, X_train, X_test, y_train, y_test,labels):\n",
    "    \"\"\" Train and test the model using the training and test data sets. Return the predictions, accuracy and metric reports. \"\"\"\n",
    "    print('Start training...', end='')\n",
    "    model.fit(X_train, y_train)\n",
    "    print('done!')\n",
    "    print('Start testing...', end='')\n",
    "    predictions = model.predict(X_test)\n",
    "    accuracy = model.score(X_test, y_test)\n",
    "    metrics_report = classification_report(y_test, predictions, target_names=labels)\n",
    "    precision, recall, fscore, train_support = score(y_test, predictions, average='weighted')\n",
    "    print('done!')\n",
    "    return predictions, accuracy, metrics_report, (precision, recall, fscore)"
   ]
  },
  {
   "cell_type": "code",
   "execution_count": 4,
   "metadata": {},
   "outputs": [
    {
     "name": "stdout",
     "output_type": "stream",
     "text": [
      "Load the data...done.\n"
     ]
    }
   ],
   "source": [
    "file_path = os.path.join('text_alli.csv')\n",
    "print('Load the data...', end='')\n",
    "df = load_data(file_path)\n",
    "print('done.')"
   ]
  },
  {
   "cell_type": "code",
   "execution_count": 5,
   "metadata": {
    "scrolled": true
   },
   "outputs": [
    {
     "data": {
      "text/html": [
       "<div>\n",
       "<style scoped>\n",
       "    .dataframe tbody tr th:only-of-type {\n",
       "        vertical-align: middle;\n",
       "    }\n",
       "\n",
       "    .dataframe tbody tr th {\n",
       "        vertical-align: top;\n",
       "    }\n",
       "\n",
       "    .dataframe thead th {\n",
       "        text-align: right;\n",
       "    }\n",
       "</style>\n",
       "<table border=\"1\" class=\"dataframe\">\n",
       "  <thead>\n",
       "    <tr style=\"text-align: right;\">\n",
       "      <th></th>\n",
       "      <th>UserName</th>\n",
       "      <th>Handle</th>\n",
       "      <th>Timestamp</th>\n",
       "      <th>text</th>\n",
       "      <th>Type</th>\n",
       "    </tr>\n",
       "  </thead>\n",
       "  <tbody>\n",
       "    <tr>\n",
       "      <th>0</th>\n",
       "      <td>Media Selangor</td>\n",
       "      <td>@Media_Selangor</td>\n",
       "      <td>2021-01-01T12:45:02.000Z</td>\n",
       "      <td>Selangor Journal | Bangkok to close schools fo...</td>\n",
       "      <td>Global</td>\n",
       "    </tr>\n",
       "    <tr>\n",
       "      <th>1</th>\n",
       "      <td>ð“¢ð“¾ð“»ð“°ð“ªð“»ð“¸ð“¾ð“½ð“®</td>\n",
       "      <td>@SurgaRoute</td>\n",
       "      <td>2021-01-01T12:44:02.000Z</td>\n",
       "      <td>PKPP throughout the country continued until ma...</td>\n",
       "      <td>News, Malaysia</td>\n",
       "    </tr>\n",
       "    <tr>\n",
       "      <th>2</th>\n",
       "      <td>Air Times News Network</td>\n",
       "      <td>@TheAirTimes</td>\n",
       "      <td>2021-01-01T12:38:57.000Z</td>\n",
       "      <td>PKPP nationwide is extended due to significant...</td>\n",
       "      <td>News, Malaysia</td>\n",
       "    </tr>\n",
       "    <tr>\n",
       "      <th>3</th>\n",
       "      <td>BERNAMA</td>\n",
       "      <td>@bernamadotcom</td>\n",
       "      <td>2021-01-01T12:36:24.000Z</td>\n",
       "      <td>#COVID-19 : Three new clusters detected today,...</td>\n",
       "      <td>Cluster</td>\n",
       "    </tr>\n",
       "    <tr>\n",
       "      <th>4</th>\n",
       "      <td>Noor Hisham Abdullah</td>\n",
       "      <td>@DGHisham</td>\n",
       "      <td>2021-01-01T12:32:20.000Z</td>\n",
       "      <td>Pillars of Islam have 5 things and paying zaka...</td>\n",
       "      <td>News, Malaysia</td>\n",
       "    </tr>\n",
       "  </tbody>\n",
       "</table>\n",
       "</div>"
      ],
      "text/plain": [
       "                                   UserName           Handle  \\\n",
       "0                            Media Selangor  @Media_Selangor   \n",
       "1  ð“¢ð“¾ð“»ð“°ð“ªð“»ð“¸ð“¾ð“½ð“®      @SurgaRoute   \n",
       "2                    Air Times News Network     @TheAirTimes   \n",
       "3                                   BERNAMA   @bernamadotcom   \n",
       "4                      Noor Hisham Abdullah        @DGHisham   \n",
       "\n",
       "                  Timestamp  \\\n",
       "0  2021-01-01T12:45:02.000Z   \n",
       "1  2021-01-01T12:44:02.000Z   \n",
       "2  2021-01-01T12:38:57.000Z   \n",
       "3  2021-01-01T12:36:24.000Z   \n",
       "4  2021-01-01T12:32:20.000Z   \n",
       "\n",
       "                                                text            Type  \n",
       "0  Selangor Journal | Bangkok to close schools fo...          Global  \n",
       "1  PKPP throughout the country continued until ma...  News, Malaysia  \n",
       "2  PKPP nationwide is extended due to significant...  News, Malaysia  \n",
       "3  #COVID-19 : Three new clusters detected today,...         Cluster  \n",
       "4  Pillars of Islam have 5 things and paying zaka...  News, Malaysia  "
      ]
     },
     "execution_count": 5,
     "metadata": {},
     "output_type": "execute_result"
    }
   ],
   "source": [
    "df.head()"
   ]
  },
  {
   "cell_type": "markdown",
   "metadata": {},
   "source": [
    "the data is being load to continue further examination "
   ]
  },
  {
   "cell_type": "code",
   "execution_count": 5,
   "metadata": {
    "scrolled": true
   },
   "outputs": [
    {
     "name": "stdout",
     "output_type": "stream",
     "text": [
      "Number of categories:  ['Global' 'News, Malaysia' 'Cluster' 'Vaccine' 'Deaths' 'Cases'\n",
      " 'Entertainment' 'Politic']\n",
      "\n"
     ]
    },
    {
     "data": {
      "text/plain": [
       "<AxesSubplot:title={'center':'Categories vs Number of Documents'}>"
      ]
     },
     "execution_count": 5,
     "metadata": {},
     "output_type": "execute_result"
    },
    {
     "data": {
      "image/png": "[encoded data removed]",
      "text/plain": [
       "<Figure size 432x288 with 1 Axes>"
      ]
     },
     "metadata": {
      "needs_background": "light"
     },
     "output_type": "display_data"
    }
   ],
   "source": [
    "categories = df.Type.unique()\n",
    "print('Number of categories: ', categories)\n",
    "print()\n",
    "df.Type.value_counts().plot(kind='bar', title='Categories vs Number of Documents', cmap='plasma')"
   ]
  },
  {
   "cell_type": "markdown",
   "metadata": {},
   "source": [
    "the bar chart shows that the dataset is imbalanced, as the classes of each category is not equally divided. In the chart above shows that News, Malaysia have more number than other categories. \n",
    "To deal with imbalanced dataset, I use stratify method to complete the data training so that my data is more stable and can be used for other algorithm. I used stratified kfold cross validation and train-test split method to help handling in the imbalanced dataset. \n"
   ]
  },
  {
   "cell_type": "code",
   "execution_count": 6,
   "metadata": {},
   "outputs": [
    {
     "data": {
      "text/plain": [
       "Text(0.5, 1.0, 'Word count vs Number of documents')"
      ]
     },
     "execution_count": 6,
     "metadata": {},
     "output_type": "execute_result"
    },
    {
     "data": {
      "image/png": "[encoded data removed]",
      "text/plain": [
       "<Figure size 576x360 with 1 Axes>"
      ]
     },
     "metadata": {
      "needs_background": "light"
     },
     "output_type": "display_data"
    }
   ],
   "source": [
    "# Create a dataframe that contain number of words for each document \n",
    "dlength_df = pd.DataFrame({'doc_length': df.text.apply(lambda x: len(x.split()))})\n",
    "\n",
    "# Group the documents based on their number of words \n",
    "grouped = dlength_df.groupby('doc_length')\n",
    "\n",
    "indices = grouped.indices\n",
    "word_count = []\n",
    "doc_count = []\n",
    "counter = 0\n",
    "for w,d in indices.items():\n",
    "    word_count.append(w)\n",
    "    doc_count.append(len(d))\n",
    "\n",
    "# Plot the distribution of words vs documents in the corpus\n",
    "plt.figure(figsize=(8,5))\n",
    "plt.plot(word_count, doc_count)\n",
    "plt.xlabel('Word count in document')\n",
    "plt.ylabel('Number of Documents')\n",
    "plt.title('Word count vs Number of documents')"
   ]
  },
  {
   "cell_type": "markdown",
   "metadata": {},
   "source": [
    "this chart to show that words count in document. the maximum words is not more than 100 words per tweet and the mostly the tweets are 40 word count in every tweets. "
   ]
  },
  {
   "cell_type": "code",
   "execution_count": 7,
   "metadata": {},
   "outputs": [
    {
     "name": "stdout",
     "output_type": "stream",
     "text": [
      "The MAEPS quarantine centre has increased bed capacity by over 3,000, to 6,132 beds. Deputy DG Dr Rohaizat Yon says this is to accommodate the increase in Covid-19 cases.\n",
      "\n",
      "This follows reports that asymptomatic patients will have to self-isolate before being taken to hospital.Quote Tweet\n",
      "BFM News\n",
      "@NewsBFM\n",
      " Â· Dec 28, 2020\n",
      "1. The Malay Mail reports that Health DG Dr Noor Hisham has advised those who have tested positive for Covid-19 but are asymptomatic, to isolate at home as they may not be taken to hospitals immediately, due to the number of cases and logistics issues in transporting patients.\n",
      "Show this thread\n",
      "\n",
      "#AGENSI Klang record highest #Covid19 two consecutive https://selangorkini.my/2020/12/klang-rekod-kes-covid-19-tertinggi-dua-hari-berturut/?utm_source=dlvr.it&utm_medium=twitterâ days in ¦\n",
      "\n",
      "It is also expecting 1% of total annual out volume to be affected, citing mandatory self-isolation, which will in turn affect 25% of its capacity for the next two weeks.\n",
      "\n",
      "https://bit.ly/37n3xCA\n",
      "\n",
      "#thevibes #fromeveryside #Kossan #glove #Covid19Kossan forecasts earnings hit after 427 staff test positive for Covid-19\n",
      "Glove maker expects 1% of total annual output to be affected\n",
      "thevibes.com\n",
      "\n"
     ]
    }
   ],
   "source": [
    "# Randomly show 3 tweet \n",
    "samples = [np.random.randint(len(df)) for i in range(3)]\n",
    "for index in samples:\n",
    "    print(df['text'][index])\n",
    "    print()"
   ]
  },
  {
   "cell_type": "code",
   "execution_count": 8,
   "metadata": {},
   "outputs": [
    {
     "name": "stdout",
     "output_type": "stream",
     "text": [
      "Cleaning the text...done.\n"
     ]
    }
   ],
   "source": [
    "# Preprocess the corpus - clean the dataset \n",
    "print('Cleaning the text...', end='')\n",
    "df = preprocess_corpus(df, column='text')\n",
    "print('done.')\n"
   ]
  },
  {
   "cell_type": "markdown",
   "metadata": {},
   "source": [
    "preprocess - to clean the data before use for develop a model. \n",
    "steps taken for preprocess\n",
    "1. removing stop words\n",
    "2. lowercase the text \n",
    "3. removing punctuations\n",
    "4. a;phanumeric and special characters\n",
    "5. remove extra space"
   ]
  },
  {
   "cell_type": "code",
   "execution_count": 9,
   "metadata": {},
   "outputs": [
    {
     "name": "stdout",
     "output_type": "stream",
     "text": [
      "Computing tfidf features...done!\n"
     ]
    }
   ],
   "source": [
    "# Create tfidf features from the text\n",
    "stop_words    = 'english'\n",
    "ngram_range   = (1, 1)\n",
    "max_features  = None\n",
    "X, vectorizer = compute_tfidf(df['text'], stop_words, ngram_range, max_features)\n",
    "\n",
    "# Encode the labels\n",
    "labels = df.Type.unique()\n",
    "label_encoder = encode_labels(labels)\n",
    "y = label_encoder.transform(df.Type)"
   ]
  },
  {
   "cell_type": "markdown",
   "metadata": {},
   "source": [
    "prepare for data preparation - convert to tf-idf\n",
    "bag-of-words is not being used as the tf-idf weighted more than the bag-of-words\n",
    "1. remove stopwords\n",
    "2. utilize unigram\n",
    "3. use all features(text)\n",
    "4. encode the class labels into numbers "
   ]
  },
  {
   "cell_type": "code",
   "execution_count": 10,
   "metadata": {},
   "outputs": [
    {
     "name": "stdout",
     "output_type": "stream",
     "text": [
      "Training set Shape: (1001, 1561)  | Test set Shape: (251, 1561)\n"
     ]
    }
   ],
   "source": [
    "# Split the dataset to training and testing: used  8:2\n",
    "X_train, X_test, y_train, y_test = train_test_split(X, y, test_size=0.2, stratify=y, random_state=0)\n",
    "print('Training set Shape: {}  | Test set Shape: {}'.format(X_train.shape, X_test.shape))\n"
   ]
  },
  {
   "cell_type": "markdown",
   "metadata": {},
   "source": [
    "to maintain the division of classes for training and testing set. "
   ]
  },
  {
   "cell_type": "markdown",
   "metadata": {},
   "source": [
    "Different model used to build the model and comparing the multiclass classification. the techniques use are: Naive Bayes, Logistic Regression, Random Forest, Support Vector Machine"
   ]
  },
  {
   "cell_type": "code",
   "execution_count": 11,
   "metadata": {},
   "outputs": [
    {
     "name": "stdout",
     "output_type": "stream",
     "text": [
      "Number of documents = 1001  |  Number of features = 1561\n",
      "Start training...done!\n",
      "Start testing..."
     ]
    },
    {
     "name": "stderr",
     "output_type": "stream",
     "text": [
      "c:\\users\\sadiqah amira\\appdata\\local\\programs\\python\\python36\\lib\\site-packages\\sklearn\\metrics\\_classification.py:1245: UndefinedMetricWarning: Precision and F-score are ill-defined and being set to 0.0 in labels with no predicted samples. Use `zero_division` parameter to control this behavior.\n",
      "  _warn_prf(average, modifier, msg_start, len(result))\n",
      "c:\\users\\sadiqah amira\\appdata\\local\\programs\\python\\python36\\lib\\site-packages\\sklearn\\metrics\\_classification.py:1245: UndefinedMetricWarning: Precision and F-score are ill-defined and being set to 0.0 in labels with no predicted samples. Use `zero_division` parameter to control this behavior.\n",
      "  _warn_prf(average, modifier, msg_start, len(result))\n",
      "c:\\users\\sadiqah amira\\appdata\\local\\programs\\python\\python36\\lib\\site-packages\\sklearn\\metrics\\_classification.py:1245: UndefinedMetricWarning: Precision and F-score are ill-defined and being set to 0.0 in labels with no predicted samples. Use `zero_division` parameter to control this behavior.\n",
      "  _warn_prf(average, modifier, msg_start, len(result))\n",
      "c:\\users\\sadiqah amira\\appdata\\local\\programs\\python\\python36\\lib\\site-packages\\sklearn\\metrics\\_classification.py:1245: UndefinedMetricWarning: Precision and F-score are ill-defined and being set to 0.0 in labels with no predicted samples. Use `zero_division` parameter to control this behavior.\n",
      "  _warn_prf(average, modifier, msg_start, len(result))\n"
     ]
    },
    {
     "name": "stdout",
     "output_type": "stream",
     "text": [
      "done!\n",
      "Total time: 0.31s\n",
      "accuracy: 0.749003984063745\n",
      "====================================================================================================\n",
      "                precision    recall  f1-score   support\n",
      "\n",
      "        Global       1.00      0.06      0.11        18\n",
      "News, Malaysia       0.00      0.00      0.00         6\n",
      "       Cluster       0.00      0.00      0.00        10\n",
      "       Vaccine       0.00      0.00      0.00         3\n",
      "        Deaths       0.00      0.00      0.00        14\n",
      "         Cases       0.75      1.00      0.86       185\n",
      " Entertainment       0.00      0.00      0.00         1\n",
      "       Politic       0.67      0.14      0.24        14\n",
      "\n",
      "      accuracy                           0.75       251\n",
      "     macro avg       0.30      0.15      0.15       251\n",
      "  weighted avg       0.66      0.75      0.65       251\n",
      "\n"
     ]
    },
    {
     "data": {
      "image/png": "[encoded data removed]",
      "text/plain": [
       "<Figure size 432x288 with 2 Axes>"
      ]
     },
     "metadata": {
      "needs_background": "light"
     },
     "output_type": "display_data"
    }
   ],
   "source": [
    "nb_model = MultinomialNB()\n",
    "print('Number of documents = {}  |  Number of features = {}'.format(X_train.shape[0], X_train.shape[1]))\n",
    "st_time = time.time()\n",
    "predictions, accuracy, metrics_report, nb_prf = train_test_model(nb_model, X_train, X_test, y_train, y_test, labels)\n",
    "en_time = time.time()\n",
    "print('Total time: {:.2f}s'.format(en_time-st_time))\n",
    "print('accuracy: {}'.format(accuracy))\n",
    "print('='*100)\n",
    "print(metrics_report)\n",
    "plot_confusion_matrix(nb_model, X_test, y_test, display_labels=labels, xticks_rotation='vertical', cmap=\"BuPu\")\n",
    "plt.show()\n"
   ]
  },
  {
   "cell_type": "code",
   "execution_count": 12,
   "metadata": {},
   "outputs": [
    {
     "name": "stdout",
     "output_type": "stream",
     "text": [
      "Number of documents = 1001  |  Number of features = 1561\n",
      "Start training...done!\n",
      "Start testing...done!\n",
      "Total time: 1.63s\n",
      "accuracy: 0.7689243027888446\n",
      "====================================================================================================\n",
      "                precision    recall  f1-score   support\n",
      "\n",
      "        Global       0.29      0.11      0.16        18\n",
      "News, Malaysia       1.00      0.67      0.80         6\n",
      "       Cluster       0.60      0.30      0.40        10\n",
      "       Vaccine       0.00      0.00      0.00         3\n",
      "        Deaths       0.00      0.00      0.00        14\n",
      "         Cases       0.78      0.97      0.86       185\n",
      " Entertainment       0.00      0.00      0.00         1\n",
      "       Politic       0.83      0.36      0.50        14\n",
      "\n",
      "      accuracy                           0.77       251\n",
      "     macro avg       0.44      0.30      0.34       251\n",
      "  weighted avg       0.69      0.77      0.71       251\n",
      "\n"
     ]
    },
    {
     "name": "stderr",
     "output_type": "stream",
     "text": [
      "c:\\users\\sadiqah amira\\appdata\\local\\programs\\python\\python36\\lib\\site-packages\\sklearn\\metrics\\_classification.py:1245: UndefinedMetricWarning: Precision and F-score are ill-defined and being set to 0.0 in labels with no predicted samples. Use `zero_division` parameter to control this behavior.\n",
      "  _warn_prf(average, modifier, msg_start, len(result))\n",
      "c:\\users\\sadiqah amira\\appdata\\local\\programs\\python\\python36\\lib\\site-packages\\sklearn\\metrics\\_classification.py:1245: UndefinedMetricWarning: Precision and F-score are ill-defined and being set to 0.0 in labels with no predicted samples. Use `zero_division` parameter to control this behavior.\n",
      "  _warn_prf(average, modifier, msg_start, len(result))\n",
      "c:\\users\\sadiqah amira\\appdata\\local\\programs\\python\\python36\\lib\\site-packages\\sklearn\\metrics\\_classification.py:1245: UndefinedMetricWarning: Precision and F-score are ill-defined and being set to 0.0 in labels with no predicted samples. Use `zero_division` parameter to control this behavior.\n",
      "  _warn_prf(average, modifier, msg_start, len(result))\n",
      "c:\\users\\sadiqah amira\\appdata\\local\\programs\\python\\python36\\lib\\site-packages\\sklearn\\metrics\\_classification.py:1245: UndefinedMetricWarning: Precision and F-score are ill-defined and being set to 0.0 in labels with no predicted samples. Use `zero_division` parameter to control this behavior.\n",
      "  _warn_prf(average, modifier, msg_start, len(result))\n"
     ]
    },
    {
     "data": {
      "text/plain": [
       "<sklearn.metrics._plot.confusion_matrix.ConfusionMatrixDisplay at 0x1878995a278>"
      ]
     },
     "execution_count": 12,
     "metadata": {},
     "output_type": "execute_result"
    },
    {
     "data": {
      "image/png": "[encoded data removed]",
      "text/plain": [
       "<Figure size 432x288 with 2 Axes>"
      ]
     },
     "metadata": {
      "needs_background": "light"
     },
     "output_type": "display_data"
    }
   ],
   "source": [
    "log_model = LogisticRegression(penalty='l2', max_iter=500)\n",
    "print('Number of documents = {}  |  Number of features = {}'.format(X_train.shape[0], X_train.shape[1]))\n",
    "st_time = time.time()\n",
    "predictions, accuracy, metrics_report, log_prf = train_test_model(log_model, X_train, X_test, y_train, y_test, labels)\n",
    "en_time = time.time()\n",
    "print('Total time: {:.2f}s'.format(en_time-st_time))\n",
    "print('accuracy: {}'.format(accuracy))\n",
    "print('='*100)\n",
    "print(metrics_report)\n",
    "plot_confusion_matrix(log_model, X_test, y_test, display_labels=labels, xticks_rotation='vertical', cmap=\"BuPu\")"
   ]
  },
  {
   "cell_type": "code",
   "execution_count": 13,
   "metadata": {},
   "outputs": [
    {
     "name": "stdout",
     "output_type": "stream",
     "text": [
      "Number of documents = 1001  |  Number of features = 1561\n",
      "Start training...done!\n",
      "Start testing...done!\n",
      "Total time: 0.28s\n",
      "accuracy: 0.796812749003984\n",
      "====================================================================================================\n",
      "                precision    recall  f1-score   support\n",
      "\n",
      "        Global       0.38      0.17      0.23        18\n",
      "News, Malaysia       0.86      1.00      0.92         6\n",
      "       Cluster       0.50      0.80      0.62        10\n",
      "       Vaccine       1.00      0.67      0.80         3\n",
      "        Deaths       1.00      0.14      0.25        14\n",
      "         Cases       0.86      0.93      0.89       185\n",
      " Entertainment       0.00      0.00      0.00         1\n",
      "       Politic       0.44      0.50      0.47        14\n",
      "\n",
      "      accuracy                           0.80       251\n",
      "     macro avg       0.63      0.53      0.52       251\n",
      "  weighted avg       0.79      0.80      0.77       251\n",
      "\n"
     ]
    },
    {
     "name": "stderr",
     "output_type": "stream",
     "text": [
      "c:\\users\\sadiqah amira\\appdata\\local\\programs\\python\\python36\\lib\\site-packages\\sklearn\\metrics\\_classification.py:1245: UndefinedMetricWarning: Precision and F-score are ill-defined and being set to 0.0 in labels with no predicted samples. Use `zero_division` parameter to control this behavior.\n",
      "  _warn_prf(average, modifier, msg_start, len(result))\n",
      "c:\\users\\sadiqah amira\\appdata\\local\\programs\\python\\python36\\lib\\site-packages\\sklearn\\metrics\\_classification.py:1245: UndefinedMetricWarning: Precision and F-score are ill-defined and being set to 0.0 in labels with no predicted samples. Use `zero_division` parameter to control this behavior.\n",
      "  _warn_prf(average, modifier, msg_start, len(result))\n",
      "c:\\users\\sadiqah amira\\appdata\\local\\programs\\python\\python36\\lib\\site-packages\\sklearn\\metrics\\_classification.py:1245: UndefinedMetricWarning: Precision and F-score are ill-defined and being set to 0.0 in labels with no predicted samples. Use `zero_division` parameter to control this behavior.\n",
      "  _warn_prf(average, modifier, msg_start, len(result))\n",
      "c:\\users\\sadiqah amira\\appdata\\local\\programs\\python\\python36\\lib\\site-packages\\sklearn\\metrics\\_classification.py:1245: UndefinedMetricWarning: Precision and F-score are ill-defined and being set to 0.0 in labels with no predicted samples. Use `zero_division` parameter to control this behavior.\n",
      "  _warn_prf(average, modifier, msg_start, len(result))\n"
     ]
    },
    {
     "data": {
      "text/plain": [
       "<sklearn.metrics._plot.confusion_matrix.ConfusionMatrixDisplay at 0x1878e268b00>"
      ]
     },
     "execution_count": 13,
     "metadata": {},
     "output_type": "execute_result"
    },
    {
     "data": {
      "image/png": "[encoded data removed]",
      "text/plain": [
       "<Figure size 432x288 with 2 Axes>"
      ]
     },
     "metadata": {
      "needs_background": "light"
     },
     "output_type": "display_data"
    }
   ],
   "source": [
    "svm = LinearSVC(class_weight='balanced', verbose=False, max_iter=10000, tol=1e-4, C=0.1)\n",
    "print('Number of documents = {}  |  Number of features = {}'.format(X_train.shape[0], X_train.shape[1]))\n",
    "st_time = time.time()\n",
    "predictions, accuracy, metrics_report, svm_prf = train_test_model(svm, X_train, X_test, y_train, y_test, labels)\n",
    "en_time = time.time()\n",
    "print('Total time: {:.2f}s'.format(en_time-st_time))\n",
    "print('accuracy: {}'.format(accuracy))\n",
    "print('='*100)\n",
    "print(metrics_report)\n",
    "plot_confusion_matrix(svm, X_test, y_test, display_labels=labels, xticks_rotation='vertical', cmap=\"BuPu\")"
   ]
  },
  {
   "cell_type": "code",
   "execution_count": 14,
   "metadata": {},
   "outputs": [
    {
     "name": "stdout",
     "output_type": "stream",
     "text": [
      "Number of documents = 1001  |  Number of features = 1561\n",
      "Start training...done!\n",
      "Start testing..."
     ]
    },
    {
     "name": "stderr",
     "output_type": "stream",
     "text": [
      "c:\\users\\sadiqah amira\\appdata\\local\\programs\\python\\python36\\lib\\site-packages\\sklearn\\metrics\\_classification.py:1245: UndefinedMetricWarning: Precision and F-score are ill-defined and being set to 0.0 in labels with no predicted samples. Use `zero_division` parameter to control this behavior.\n",
      "  _warn_prf(average, modifier, msg_start, len(result))\n",
      "c:\\users\\sadiqah amira\\appdata\\local\\programs\\python\\python36\\lib\\site-packages\\sklearn\\metrics\\_classification.py:1245: UndefinedMetricWarning: Precision and F-score are ill-defined and being set to 0.0 in labels with no predicted samples. Use `zero_division` parameter to control this behavior.\n",
      "  _warn_prf(average, modifier, msg_start, len(result))\n",
      "c:\\users\\sadiqah amira\\appdata\\local\\programs\\python\\python36\\lib\\site-packages\\sklearn\\metrics\\_classification.py:1245: UndefinedMetricWarning: Precision and F-score are ill-defined and being set to 0.0 in labels with no predicted samples. Use `zero_division` parameter to control this behavior.\n",
      "  _warn_prf(average, modifier, msg_start, len(result))\n",
      "c:\\users\\sadiqah amira\\appdata\\local\\programs\\python\\python36\\lib\\site-packages\\sklearn\\metrics\\_classification.py:1245: UndefinedMetricWarning: Precision and F-score are ill-defined and being set to 0.0 in labels with no predicted samples. Use `zero_division` parameter to control this behavior.\n",
      "  _warn_prf(average, modifier, msg_start, len(result))\n"
     ]
    },
    {
     "name": "stdout",
     "output_type": "stream",
     "text": [
      "done!\n",
      "Total time: 3.68s\n",
      "accuracy: 0.7808764940239044\n",
      "====================================================================================================\n",
      "                precision    recall  f1-score   support\n",
      "\n",
      "        Global       0.30      0.17      0.21        18\n",
      "News, Malaysia       1.00      0.83      0.91         6\n",
      "       Cluster       0.67      0.60      0.63        10\n",
      "       Vaccine       1.00      0.33      0.50         3\n",
      "        Deaths       0.00      0.00      0.00        14\n",
      "         Cases       0.82      0.95      0.88       185\n",
      " Entertainment       0.00      0.00      0.00         1\n",
      "       Politic       0.50      0.43      0.46        14\n",
      "\n",
      "      accuracy                           0.78       251\n",
      "     macro avg       0.54      0.41      0.45       251\n",
      "  weighted avg       0.71      0.78      0.74       251\n",
      "\n"
     ]
    },
    {
     "data": {
      "text/plain": [
       "<sklearn.metrics._plot.confusion_matrix.ConfusionMatrixDisplay at 0x187ff322d30>"
      ]
     },
     "execution_count": 14,
     "metadata": {},
     "output_type": "execute_result"
    },
    {
     "data": {
      "image/png": "[encoded data removed]",
      "text/plain": [
       "<Figure size 432x288 with 2 Axes>"
      ]
     },
     "metadata": {
      "needs_background": "light"
     },
     "output_type": "display_data"
    }
   ],
   "source": [
    "rf_model = RandomForestClassifier(n_estimators=100, max_depth=100, min_samples_split=10, n_jobs=-1, verbose=0)\n",
    "print('Number of documents = {}  |  Number of features = {}'.format(X_train.shape[0], X_train.shape[1]))\n",
    " \n",
    "print('accuracy: {}'.format(accuracy))\n",
    "print('='*100)\n",
    "print(metrics_report)\n",
    "plot_confusion_matrix(rf_model, X_test, y_test, display_labels=labels, xticks_rotation='vertical', cmap=\"BuPu\")"
   ]
  },
  {
   "cell_type": "code",
   "execution_count": 15,
   "metadata": {},
   "outputs": [
    {
     "data": {
      "image/png": "[encoded data removed]",
      "text/plain": [
       "<Figure size 432x288 with 1 Axes>"
      ]
     },
     "metadata": {
      "needs_background": "light"
     },
     "output_type": "display_data"
    }
   ],
   "source": [
    "xx = np.array([1,2,3])\n",
    "width = 0.15\n",
    "ax = plt.subplot(111)\n",
    "ax.bar( xx - width, height=np.array(nb_prf), width=width, color='b', align='center', label='NB', tick_label=['Precision', 'Recall', 'f1'])\n",
    "ax.bar(xx ,height=np.array(log_prf), width=width, color='g', align='center', label='Log_Reg')\n",
    "ax.bar(xx + width, height=np.array(svm_prf), width=width, color='r', align='center', label='SVM')\n",
    "ax.bar(xx + 2*width, height=np.array(rf_prf), width=width, color='y', align='center', label='Random Forest')\n",
    "\n",
    "plt.xlabel('Classification Metrics')\n",
    "plt.ylabel('Scores')\n",
    "plt.legend(loc='lower right')\n",
    "plt.show()\n"
   ]
  },
  {
   "cell_type": "code",
   "execution_count": 32,
   "metadata": {},
   "outputs": [
    {
     "data": {
      "image/png": "[encoded data removed]",
      "text/plain": [
       "<Figure size 432x288 with 1 Axes>"
      ]
     },
     "metadata": {
      "needs_background": "light"
     },
     "output_type": "display_data"
    }
   ],
   "source": [
    "tr_times = [('NB', 0.31), ('Log_Reg', 1.63), ('SVM', 0.28), ('Random_Forest', 3.68)]\n",
    "x_vals = []\n",
    "h_vals = []\n",
    "for t in tr_times:\n",
    "    x_vals.append(t[0])\n",
    "    h_vals.append(t[1])\n",
    "    \n",
    "ax = plt.subplot(111)\n",
    "ax.bar(np.linspace(0,1,4) - width, height=np.array(h_vals), width=width, color='Green', tick_label=x_vals)\n",
    "plt.xlabel('Techniques')\n",
    "plt.ylabel('Training Time')\n",
    "plt.show()"
   ]
  },
  {
   "cell_type": "markdown",
   "metadata": {},
   "source": [
    "# Cross Validation\n",
    "cross validation(stratifiedkfold) is the method to handle the imbalanced dataset "
   ]
  },
  {
   "cell_type": "code",
   "execution_count": 17,
   "metadata": {},
   "outputs": [
    {
     "name": "stdout",
     "output_type": "stream",
     "text": [
      "Start training...done!\n",
      "Start testing...done!\n",
      "Start training...done!"
     ]
    },
    {
     "name": "stderr",
     "output_type": "stream",
     "text": [
      "c:\\users\\sadiqah amira\\appdata\\local\\programs\\python\\python36\\lib\\site-packages\\sklearn\\metrics\\_classification.py:1245: UndefinedMetricWarning: Precision and F-score are ill-defined and being set to 0.0 in labels with no predicted samples. Use `zero_division` parameter to control this behavior.\n",
      "  _warn_prf(average, modifier, msg_start, len(result))\n",
      "c:\\users\\sadiqah amira\\appdata\\local\\programs\\python\\python36\\lib\\site-packages\\sklearn\\metrics\\_classification.py:1245: UndefinedMetricWarning: Precision and F-score are ill-defined and being set to 0.0 in labels with no predicted samples. Use `zero_division` parameter to control this behavior.\n",
      "  _warn_prf(average, modifier, msg_start, len(result))\n",
      "c:\\users\\sadiqah amira\\appdata\\local\\programs\\python\\python36\\lib\\site-packages\\sklearn\\metrics\\_classification.py:1245: UndefinedMetricWarning: Precision and F-score are ill-defined and being set to 0.0 in labels with no predicted samples. Use `zero_division` parameter to control this behavior.\n",
      "  _warn_prf(average, modifier, msg_start, len(result))\n",
      "c:\\users\\sadiqah amira\\appdata\\local\\programs\\python\\python36\\lib\\site-packages\\sklearn\\metrics\\_classification.py:1245: UndefinedMetricWarning: Precision and F-score are ill-defined and being set to 0.0 in labels with no predicted samples. Use `zero_division` parameter to control this behavior.\n",
      "  _warn_prf(average, modifier, msg_start, len(result))\n",
      "c:\\users\\sadiqah amira\\appdata\\local\\programs\\python\\python36\\lib\\site-packages\\sklearn\\metrics\\_classification.py:1245: UndefinedMetricWarning: Precision and F-score are ill-defined and being set to 0.0 in labels with no predicted samples. Use `zero_division` parameter to control this behavior.\n",
      "  _warn_prf(average, modifier, msg_start, len(result))\n"
     ]
    },
    {
     "name": "stdout",
     "output_type": "stream",
     "text": [
      "\n",
      "Start testing...done!\n",
      "Total time: 0.32s\n",
      "mean accuracy: 0.74\n"
     ]
    },
    {
     "name": "stderr",
     "output_type": "stream",
     "text": [
      "c:\\users\\sadiqah amira\\appdata\\local\\programs\\python\\python36\\lib\\site-packages\\sklearn\\metrics\\_classification.py:1245: UndefinedMetricWarning: Precision and F-score are ill-defined and being set to 0.0 in labels with no predicted samples. Use `zero_division` parameter to control this behavior.\n",
      "  _warn_prf(average, modifier, msg_start, len(result))\n",
      "c:\\users\\sadiqah amira\\appdata\\local\\programs\\python\\python36\\lib\\site-packages\\sklearn\\metrics\\_classification.py:1245: UndefinedMetricWarning: Precision and F-score are ill-defined and being set to 0.0 in labels with no predicted samples. Use `zero_division` parameter to control this behavior.\n",
      "  _warn_prf(average, modifier, msg_start, len(result))\n",
      "c:\\users\\sadiqah amira\\appdata\\local\\programs\\python\\python36\\lib\\site-packages\\sklearn\\metrics\\_classification.py:1245: UndefinedMetricWarning: Precision and F-score are ill-defined and being set to 0.0 in labels with no predicted samples. Use `zero_division` parameter to control this behavior.\n",
      "  _warn_prf(average, modifier, msg_start, len(result))\n"
     ]
    }
   ],
   "source": [
    "skfold = StratifiedKFold(n_splits=2, shuffle=True, random_state=0)\n",
    "nb_model = MultinomialNB()\n",
    "\n",
    "accs = []\n",
    "reports = []\n",
    "f1_scores = []\n",
    "st_time = time.time()\n",
    "for train_index, test_index in skfold.split(X,y):\n",
    "    X_train, X_test = X[train_index], X[test_index]\n",
    "    y_train, y_test = y[train_index], y[test_index]\n",
    "    predictions, accuracy, metrics_report, nb_prf = train_test_model(nb_model, X_train, X_test, y_train, y_test, labels)\n",
    "    accs.append(accuracy)\n",
    "    reports.append(metrics_report)\n",
    "    \n",
    "en_time = time.time()\n",
    "print('Total time: {:.2f}s'.format(en_time-st_time))   \n",
    "print('mean accuracy: {:.2f}'.format(np.mean(accs)))\n"
   ]
  },
  {
   "cell_type": "code",
   "execution_count": 18,
   "metadata": {},
   "outputs": [
    {
     "name": "stdout",
     "output_type": "stream",
     "text": [
      "Start training...done!\n",
      "Start testing...done!\n",
      "Start training..."
     ]
    },
    {
     "name": "stderr",
     "output_type": "stream",
     "text": [
      "c:\\users\\sadiqah amira\\appdata\\local\\programs\\python\\python36\\lib\\site-packages\\sklearn\\metrics\\_classification.py:1245: UndefinedMetricWarning: Precision and F-score are ill-defined and being set to 0.0 in labels with no predicted samples. Use `zero_division` parameter to control this behavior.\n",
      "  _warn_prf(average, modifier, msg_start, len(result))\n",
      "c:\\users\\sadiqah amira\\appdata\\local\\programs\\python\\python36\\lib\\site-packages\\sklearn\\metrics\\_classification.py:1245: UndefinedMetricWarning: Precision and F-score are ill-defined and being set to 0.0 in labels with no predicted samples. Use `zero_division` parameter to control this behavior.\n",
      "  _warn_prf(average, modifier, msg_start, len(result))\n",
      "c:\\users\\sadiqah amira\\appdata\\local\\programs\\python\\python36\\lib\\site-packages\\sklearn\\metrics\\_classification.py:1245: UndefinedMetricWarning: Precision and F-score are ill-defined and being set to 0.0 in labels with no predicted samples. Use `zero_division` parameter to control this behavior.\n",
      "  _warn_prf(average, modifier, msg_start, len(result))\n",
      "c:\\users\\sadiqah amira\\appdata\\local\\programs\\python\\python36\\lib\\site-packages\\sklearn\\metrics\\_classification.py:1245: UndefinedMetricWarning: Precision and F-score are ill-defined and being set to 0.0 in labels with no predicted samples. Use `zero_division` parameter to control this behavior.\n",
      "  _warn_prf(average, modifier, msg_start, len(result))\n"
     ]
    },
    {
     "name": "stdout",
     "output_type": "stream",
     "text": [
      "done!\n",
      "Start testing...done!\n",
      "Total time: 2.29s\n",
      "mean accuracy: 0.76\n"
     ]
    },
    {
     "name": "stderr",
     "output_type": "stream",
     "text": [
      "c:\\users\\sadiqah amira\\appdata\\local\\programs\\python\\python36\\lib\\site-packages\\sklearn\\metrics\\_classification.py:1245: UndefinedMetricWarning: Precision and F-score are ill-defined and being set to 0.0 in labels with no predicted samples. Use `zero_division` parameter to control this behavior.\n",
      "  _warn_prf(average, modifier, msg_start, len(result))\n",
      "c:\\users\\sadiqah amira\\appdata\\local\\programs\\python\\python36\\lib\\site-packages\\sklearn\\metrics\\_classification.py:1245: UndefinedMetricWarning: Precision and F-score are ill-defined and being set to 0.0 in labels with no predicted samples. Use `zero_division` parameter to control this behavior.\n",
      "  _warn_prf(average, modifier, msg_start, len(result))\n",
      "c:\\users\\sadiqah amira\\appdata\\local\\programs\\python\\python36\\lib\\site-packages\\sklearn\\metrics\\_classification.py:1245: UndefinedMetricWarning: Precision and F-score are ill-defined and being set to 0.0 in labels with no predicted samples. Use `zero_division` parameter to control this behavior.\n",
      "  _warn_prf(average, modifier, msg_start, len(result))\n",
      "c:\\users\\sadiqah amira\\appdata\\local\\programs\\python\\python36\\lib\\site-packages\\sklearn\\metrics\\_classification.py:1245: UndefinedMetricWarning: Precision and F-score are ill-defined and being set to 0.0 in labels with no predicted samples. Use `zero_division` parameter to control this behavior.\n",
      "  _warn_prf(average, modifier, msg_start, len(result))\n"
     ]
    }
   ],
   "source": [
    "log_model = LogisticRegression(penalty='l2', max_iter=100)\n",
    "accs = []\n",
    "reports = []\n",
    "st_time = time.time()\n",
    "for train_index, test_index in skfold.split(X,y):\n",
    "    X_train, X_test = X[train_index], X[test_index]\n",
    "    y_train, y_test = y[train_index], y[test_index]\n",
    "    predictions, accuracy, metrics_report, log_prf = train_test_model(log_model, X_train, X_test, y_train, y_test, labels)\n",
    "    accs.append(accuracy)\n",
    "    reports.append(metrics_report)\n",
    "\n",
    "en_time = time.time()\n",
    "print('Total time: {:.2f}s'.format(en_time-st_time))   \n",
    "print('mean accuracy: {:.2f}'.format(np.mean(accs)))"
   ]
  },
  {
   "cell_type": "code",
   "execution_count": 19,
   "metadata": {},
   "outputs": [
    {
     "name": "stdout",
     "output_type": "stream",
     "text": [
      "Start training...done!\n",
      "Start testing...done!\n",
      "Start training...done!"
     ]
    },
    {
     "name": "stderr",
     "output_type": "stream",
     "text": [
      "c:\\users\\sadiqah amira\\appdata\\local\\programs\\python\\python36\\lib\\site-packages\\sklearn\\metrics\\_classification.py:1245: UndefinedMetricWarning: Precision and F-score are ill-defined and being set to 0.0 in labels with no predicted samples. Use `zero_division` parameter to control this behavior.\n",
      "  _warn_prf(average, modifier, msg_start, len(result))\n",
      "c:\\users\\sadiqah amira\\appdata\\local\\programs\\python\\python36\\lib\\site-packages\\sklearn\\metrics\\_classification.py:1245: UndefinedMetricWarning: Precision and F-score are ill-defined and being set to 0.0 in labels with no predicted samples. Use `zero_division` parameter to control this behavior.\n",
      "  _warn_prf(average, modifier, msg_start, len(result))\n",
      "c:\\users\\sadiqah amira\\appdata\\local\\programs\\python\\python36\\lib\\site-packages\\sklearn\\metrics\\_classification.py:1245: UndefinedMetricWarning: Precision and F-score are ill-defined and being set to 0.0 in labels with no predicted samples. Use `zero_division` parameter to control this behavior.\n",
      "  _warn_prf(average, modifier, msg_start, len(result))\n",
      "c:\\users\\sadiqah amira\\appdata\\local\\programs\\python\\python36\\lib\\site-packages\\sklearn\\metrics\\_classification.py:1245: UndefinedMetricWarning: Precision and F-score are ill-defined and being set to 0.0 in labels with no predicted samples. Use `zero_division` parameter to control this behavior.\n",
      "  _warn_prf(average, modifier, msg_start, len(result))\n"
     ]
    },
    {
     "name": "stdout",
     "output_type": "stream",
     "text": [
      "\n",
      "Start testing...done!\n",
      "Total time: 0.32s\n",
      "mean accuracy: 0.81\n"
     ]
    }
   ],
   "source": [
    "#svm = LinearSVC(class_weight='balanced', verbose=False, max_iter=10000, tol=1e-4, C=0.1)\n",
    "svm = LinearSVC(class_weight='balanced', verbose=False, max_iter=100, tol=1e-4, C=0.1)\n",
    "accs = []\n",
    "reports = []\n",
    "st_time = time.time()\n",
    "for train_index, test_index in skfold.split(X,y):\n",
    "    X_train, X_test = X[train_index], X[test_index]\n",
    "    y_train, y_test = y[train_index], y[test_index]\n",
    "    predictions, accuracy, metrics_report, svm_prf = train_test_model(svm, X_train, X_test, y_train, y_test, labels)\n",
    "    accs.append(accuracy)\n",
    "    reports.append(metrics_report)\n",
    "\n",
    "en_time = time.time()\n",
    "print('Total time: {:.2f}s'.format(en_time-st_time)) \n",
    "print('mean accuracy: {:.2f}'.format(np.mean(accs)))"
   ]
  },
  {
   "cell_type": "code",
   "execution_count": 20,
   "metadata": {},
   "outputs": [
    {
     "name": "stdout",
     "output_type": "stream",
     "text": [
      "Start training...done!\n",
      "Start testing..."
     ]
    },
    {
     "name": "stderr",
     "output_type": "stream",
     "text": [
      "c:\\users\\sadiqah amira\\appdata\\local\\programs\\python\\python36\\lib\\site-packages\\sklearn\\metrics\\_classification.py:1245: UndefinedMetricWarning: Precision and F-score are ill-defined and being set to 0.0 in labels with no predicted samples. Use `zero_division` parameter to control this behavior.\n",
      "  _warn_prf(average, modifier, msg_start, len(result))\n",
      "c:\\users\\sadiqah amira\\appdata\\local\\programs\\python\\python36\\lib\\site-packages\\sklearn\\metrics\\_classification.py:1245: UndefinedMetricWarning: Precision and F-score are ill-defined and being set to 0.0 in labels with no predicted samples. Use `zero_division` parameter to control this behavior.\n",
      "  _warn_prf(average, modifier, msg_start, len(result))\n",
      "c:\\users\\sadiqah amira\\appdata\\local\\programs\\python\\python36\\lib\\site-packages\\sklearn\\metrics\\_classification.py:1245: UndefinedMetricWarning: Precision and F-score are ill-defined and being set to 0.0 in labels with no predicted samples. Use `zero_division` parameter to control this behavior.\n",
      "  _warn_prf(average, modifier, msg_start, len(result))\n",
      "c:\\users\\sadiqah amira\\appdata\\local\\programs\\python\\python36\\lib\\site-packages\\sklearn\\metrics\\_classification.py:1245: UndefinedMetricWarning: Precision and F-score are ill-defined and being set to 0.0 in labels with no predicted samples. Use `zero_division` parameter to control this behavior.\n",
      "  _warn_prf(average, modifier, msg_start, len(result))\n"
     ]
    },
    {
     "name": "stdout",
     "output_type": "stream",
     "text": [
      "done!\n",
      "Start training...done!\n",
      "Start testing...done!\n",
      "Total time: 7.32s\n",
      "mean accuracy: 0.78\n"
     ]
    },
    {
     "name": "stderr",
     "output_type": "stream",
     "text": [
      "c:\\users\\sadiqah amira\\appdata\\local\\programs\\python\\python36\\lib\\site-packages\\sklearn\\metrics\\_classification.py:1245: UndefinedMetricWarning: Precision and F-score are ill-defined and being set to 0.0 in labels with no predicted samples. Use `zero_division` parameter to control this behavior.\n",
      "  _warn_prf(average, modifier, msg_start, len(result))\n",
      "c:\\users\\sadiqah amira\\appdata\\local\\programs\\python\\python36\\lib\\site-packages\\sklearn\\metrics\\_classification.py:1245: UndefinedMetricWarning: Precision and F-score are ill-defined and being set to 0.0 in labels with no predicted samples. Use `zero_division` parameter to control this behavior.\n",
      "  _warn_prf(average, modifier, msg_start, len(result))\n",
      "c:\\users\\sadiqah amira\\appdata\\local\\programs\\python\\python36\\lib\\site-packages\\sklearn\\metrics\\_classification.py:1245: UndefinedMetricWarning: Precision and F-score are ill-defined and being set to 0.0 in labels with no predicted samples. Use `zero_division` parameter to control this behavior.\n",
      "  _warn_prf(average, modifier, msg_start, len(result))\n",
      "c:\\users\\sadiqah amira\\appdata\\local\\programs\\python\\python36\\lib\\site-packages\\sklearn\\metrics\\_classification.py:1245: UndefinedMetricWarning: Precision and F-score are ill-defined and being set to 0.0 in labels with no predicted samples. Use `zero_division` parameter to control this behavior.\n",
      "  _warn_prf(average, modifier, msg_start, len(result))\n"
     ]
    }
   ],
   "source": [
    "rf_model = RandomForestClassifier(n_estimators=100, max_depth=100, min_samples_split=10, n_jobs=-1, verbose=0)\n",
    "accs = []\n",
    "reports = []\n",
    "st_time = time.time()\n",
    "for train_index, test_index in skfold.split(X,y):\n",
    "    X_train, X_test = X[train_index], X[test_index]\n",
    "    y_train, y_test = y[train_index], y[test_index]\n",
    "    predictions, accuracy, metrics_report, rf_prf = train_test_model(rf_model, X_train, X_test, y_train, y_test, labels)\n",
    "    accs.append(accuracy)\n",
    "    reports.append(metrics_report)\n",
    "\n",
    "en_time = time.time()\n",
    "print('Total time: {:.2f}s'.format(en_time-st_time)) \n",
    "print('mean accuracy: {:.2f}'.format(np.mean(accs)))\n"
   ]
  },
  {
   "cell_type": "markdown",
   "metadata": {},
   "source": [
    "# parameter optimization\n",
    "\n",
    "Modeling algorithms based on the highest accuracy SVM - 80%, RF - 78%\n",
    "1. SVM\n",
    "2. Random forest\n"
   ]
  },
  {
   "cell_type": "code",
   "execution_count": 21,
   "metadata": {
    "scrolled": false
   },
   "outputs": [
    {
     "name": "stderr",
     "output_type": "stream",
     "text": [
      "c:\\users\\sadiqah amira\\appdata\\local\\programs\\python\\python36\\lib\\site-packages\\sklearn\\model_selection\\_split.py:668: UserWarning: The least populated class in y has only 1 members, which is less than n_splits=5.\n",
      "  % (min_groups, self.n_splits)), UserWarning)\n",
      "c:\\users\\sadiqah amira\\appdata\\local\\programs\\python\\python36\\lib\\site-packages\\sklearn\\model_selection\\_split.py:668: UserWarning: The least populated class in y has only 1 members, which is less than n_splits=5.\n",
      "  % (min_groups, self.n_splits)), UserWarning)\n",
      "c:\\users\\sadiqah amira\\appdata\\local\\programs\\python\\python36\\lib\\site-packages\\sklearn\\model_selection\\_split.py:668: UserWarning: The least populated class in y has only 1 members, which is less than n_splits=5.\n",
      "  % (min_groups, self.n_splits)), UserWarning)\n",
      "c:\\users\\sadiqah amira\\appdata\\local\\programs\\python\\python36\\lib\\site-packages\\sklearn\\model_selection\\_split.py:668: UserWarning: The least populated class in y has only 1 members, which is less than n_splits=5.\n",
      "  % (min_groups, self.n_splits)), UserWarning)\n",
      "c:\\users\\sadiqah amira\\appdata\\local\\programs\\python\\python36\\lib\\site-packages\\sklearn\\model_selection\\_split.py:668: UserWarning: The least populated class in y has only 1 members, which is less than n_splits=5.\n",
      "  % (min_groups, self.n_splits)), UserWarning)\n",
      "c:\\users\\sadiqah amira\\appdata\\local\\programs\\python\\python36\\lib\\site-packages\\sklearn\\model_selection\\_split.py:668: UserWarning: The least populated class in y has only 1 members, which is less than n_splits=5.\n",
      "  % (min_groups, self.n_splits)), UserWarning)\n",
      "c:\\users\\sadiqah amira\\appdata\\local\\programs\\python\\python36\\lib\\site-packages\\sklearn\\model_selection\\_split.py:668: UserWarning: The least populated class in y has only 1 members, which is less than n_splits=5.\n",
      "  % (min_groups, self.n_splits)), UserWarning)\n",
      "c:\\users\\sadiqah amira\\appdata\\local\\programs\\python\\python36\\lib\\site-packages\\sklearn\\model_selection\\_split.py:668: UserWarning: The least populated class in y has only 1 members, which is less than n_splits=5.\n",
      "  % (min_groups, self.n_splits)), UserWarning)\n",
      "c:\\users\\sadiqah amira\\appdata\\local\\programs\\python\\python36\\lib\\site-packages\\sklearn\\model_selection\\_split.py:668: UserWarning: The least populated class in y has only 1 members, which is less than n_splits=5.\n",
      "  % (min_groups, self.n_splits)), UserWarning)\n",
      "c:\\users\\sadiqah amira\\appdata\\local\\programs\\python\\python36\\lib\\site-packages\\sklearn\\model_selection\\_split.py:668: UserWarning: The least populated class in y has only 1 members, which is less than n_splits=5.\n",
      "  % (min_groups, self.n_splits)), UserWarning)\n",
      "c:\\users\\sadiqah amira\\appdata\\local\\programs\\python\\python36\\lib\\site-packages\\sklearn\\model_selection\\_split.py:668: UserWarning: The least populated class in y has only 1 members, which is less than n_splits=5.\n",
      "  % (min_groups, self.n_splits)), UserWarning)\n",
      "c:\\users\\sadiqah amira\\appdata\\local\\programs\\python\\python36\\lib\\site-packages\\sklearn\\model_selection\\_split.py:668: UserWarning: The least populated class in y has only 1 members, which is less than n_splits=5.\n",
      "  % (min_groups, self.n_splits)), UserWarning)\n",
      "c:\\users\\sadiqah amira\\appdata\\local\\programs\\python\\python36\\lib\\site-packages\\sklearn\\model_selection\\_split.py:668: UserWarning: The least populated class in y has only 1 members, which is less than n_splits=5.\n",
      "  % (min_groups, self.n_splits)), UserWarning)\n",
      "c:\\users\\sadiqah amira\\appdata\\local\\programs\\python\\python36\\lib\\site-packages\\sklearn\\model_selection\\_split.py:668: UserWarning: The least populated class in y has only 1 members, which is less than n_splits=5.\n",
      "  % (min_groups, self.n_splits)), UserWarning)\n",
      "c:\\users\\sadiqah amira\\appdata\\local\\programs\\python\\python36\\lib\\site-packages\\sklearn\\model_selection\\_split.py:668: UserWarning: The least populated class in y has only 1 members, which is less than n_splits=5.\n",
      "  % (min_groups, self.n_splits)), UserWarning)\n",
      "c:\\users\\sadiqah amira\\appdata\\local\\programs\\python\\python36\\lib\\site-packages\\sklearn\\model_selection\\_split.py:668: UserWarning: The least populated class in y has only 1 members, which is less than n_splits=5.\n",
      "  % (min_groups, self.n_splits)), UserWarning)\n",
      "c:\\users\\sadiqah amira\\appdata\\local\\programs\\python\\python36\\lib\\site-packages\\sklearn\\model_selection\\_split.py:668: UserWarning: The least populated class in y has only 1 members, which is less than n_splits=5.\n",
      "  % (min_groups, self.n_splits)), UserWarning)\n",
      "c:\\users\\sadiqah amira\\appdata\\local\\programs\\python\\python36\\lib\\site-packages\\sklearn\\model_selection\\_split.py:668: UserWarning: The least populated class in y has only 1 members, which is less than n_splits=5.\n",
      "  % (min_groups, self.n_splits)), UserWarning)\n",
      "c:\\users\\sadiqah amira\\appdata\\local\\programs\\python\\python36\\lib\\site-packages\\sklearn\\model_selection\\_split.py:668: UserWarning: The least populated class in y has only 1 members, which is less than n_splits=5.\n",
      "  % (min_groups, self.n_splits)), UserWarning)\n",
      "c:\\users\\sadiqah amira\\appdata\\local\\programs\\python\\python36\\lib\\site-packages\\sklearn\\model_selection\\_split.py:668: UserWarning: The least populated class in y has only 1 members, which is less than n_splits=5.\n",
      "  % (min_groups, self.n_splits)), UserWarning)\n",
      "c:\\users\\sadiqah amira\\appdata\\local\\programs\\python\\python36\\lib\\site-packages\\sklearn\\model_selection\\_split.py:668: UserWarning: The least populated class in y has only 1 members, which is less than n_splits=5.\n",
      "  % (min_groups, self.n_splits)), UserWarning)\n",
      "c:\\users\\sadiqah amira\\appdata\\local\\programs\\python\\python36\\lib\\site-packages\\sklearn\\model_selection\\_split.py:668: UserWarning: The least populated class in y has only 1 members, which is less than n_splits=5.\n",
      "  % (min_groups, self.n_splits)), UserWarning)\n",
      "c:\\users\\sadiqah amira\\appdata\\local\\programs\\python\\python36\\lib\\site-packages\\sklearn\\model_selection\\_split.py:668: UserWarning: The least populated class in y has only 1 members, which is less than n_splits=5.\n",
      "  % (min_groups, self.n_splits)), UserWarning)\n",
      "c:\\users\\sadiqah amira\\appdata\\local\\programs\\python\\python36\\lib\\site-packages\\sklearn\\model_selection\\_split.py:668: UserWarning: The least populated class in y has only 1 members, which is less than n_splits=5.\n",
      "  % (min_groups, self.n_splits)), UserWarning)\n",
      "c:\\users\\sadiqah amira\\appdata\\local\\programs\\python\\python36\\lib\\site-packages\\sklearn\\model_selection\\_split.py:668: UserWarning: The least populated class in y has only 1 members, which is less than n_splits=5.\n",
      "  % (min_groups, self.n_splits)), UserWarning)\n",
      "c:\\users\\sadiqah amira\\appdata\\local\\programs\\python\\python36\\lib\\site-packages\\sklearn\\model_selection\\_split.py:668: UserWarning: The least populated class in y has only 1 members, which is less than n_splits=5.\n",
      "  % (min_groups, self.n_splits)), UserWarning)\n",
      "c:\\users\\sadiqah amira\\appdata\\local\\programs\\python\\python36\\lib\\site-packages\\sklearn\\model_selection\\_split.py:668: UserWarning: The least populated class in y has only 1 members, which is less than n_splits=5.\n",
      "  % (min_groups, self.n_splits)), UserWarning)\n",
      "c:\\users\\sadiqah amira\\appdata\\local\\programs\\python\\python36\\lib\\site-packages\\sklearn\\model_selection\\_split.py:668: UserWarning: The least populated class in y has only 1 members, which is less than n_splits=5.\n",
      "  % (min_groups, self.n_splits)), UserWarning)\n",
      "c:\\users\\sadiqah amira\\appdata\\local\\programs\\python\\python36\\lib\\site-packages\\sklearn\\model_selection\\_split.py:668: UserWarning: The least populated class in y has only 1 members, which is less than n_splits=5.\n",
      "  % (min_groups, self.n_splits)), UserWarning)\n",
      "c:\\users\\sadiqah amira\\appdata\\local\\programs\\python\\python36\\lib\\site-packages\\sklearn\\model_selection\\_split.py:668: UserWarning: The least populated class in y has only 1 members, which is less than n_splits=5.\n",
      "  % (min_groups, self.n_splits)), UserWarning)\n",
      "c:\\users\\sadiqah amira\\appdata\\local\\programs\\python\\python36\\lib\\site-packages\\sklearn\\model_selection\\_split.py:668: UserWarning: The least populated class in y has only 1 members, which is less than n_splits=5.\n",
      "  % (min_groups, self.n_splits)), UserWarning)\n",
      "c:\\users\\sadiqah amira\\appdata\\local\\programs\\python\\python36\\lib\\site-packages\\sklearn\\model_selection\\_split.py:668: UserWarning: The least populated class in y has only 1 members, which is less than n_splits=5.\n",
      "  % (min_groups, self.n_splits)), UserWarning)\n"
     ]
    },
    {
     "name": "stderr",
     "output_type": "stream",
     "text": [
      "c:\\users\\sadiqah amira\\appdata\\local\\programs\\python\\python36\\lib\\site-packages\\sklearn\\model_selection\\_split.py:668: UserWarning: The least populated class in y has only 1 members, which is less than n_splits=5.\n",
      "  % (min_groups, self.n_splits)), UserWarning)\n",
      "c:\\users\\sadiqah amira\\appdata\\local\\programs\\python\\python36\\lib\\site-packages\\sklearn\\model_selection\\_split.py:668: UserWarning: The least populated class in y has only 1 members, which is less than n_splits=5.\n",
      "  % (min_groups, self.n_splits)), UserWarning)\n",
      "c:\\users\\sadiqah amira\\appdata\\local\\programs\\python\\python36\\lib\\site-packages\\sklearn\\model_selection\\_split.py:668: UserWarning: The least populated class in y has only 1 members, which is less than n_splits=5.\n",
      "  % (min_groups, self.n_splits)), UserWarning)\n",
      "c:\\users\\sadiqah amira\\appdata\\local\\programs\\python\\python36\\lib\\site-packages\\sklearn\\model_selection\\_split.py:668: UserWarning: The least populated class in y has only 1 members, which is less than n_splits=5.\n",
      "  % (min_groups, self.n_splits)), UserWarning)\n",
      "c:\\users\\sadiqah amira\\appdata\\local\\programs\\python\\python36\\lib\\site-packages\\sklearn\\model_selection\\_split.py:668: UserWarning: The least populated class in y has only 1 members, which is less than n_splits=5.\n",
      "  % (min_groups, self.n_splits)), UserWarning)\n",
      "c:\\users\\sadiqah amira\\appdata\\local\\programs\\python\\python36\\lib\\site-packages\\sklearn\\model_selection\\_split.py:668: UserWarning: The least populated class in y has only 1 members, which is less than n_splits=5.\n",
      "  % (min_groups, self.n_splits)), UserWarning)\n",
      "c:\\users\\sadiqah amira\\appdata\\local\\programs\\python\\python36\\lib\\site-packages\\sklearn\\model_selection\\_split.py:668: UserWarning: The least populated class in y has only 1 members, which is less than n_splits=5.\n",
      "  % (min_groups, self.n_splits)), UserWarning)\n",
      "c:\\users\\sadiqah amira\\appdata\\local\\programs\\python\\python36\\lib\\site-packages\\sklearn\\model_selection\\_split.py:668: UserWarning: The least populated class in y has only 1 members, which is less than n_splits=5.\n",
      "  % (min_groups, self.n_splits)), UserWarning)\n",
      "c:\\users\\sadiqah amira\\appdata\\local\\programs\\python\\python36\\lib\\site-packages\\sklearn\\model_selection\\_split.py:668: UserWarning: The least populated class in y has only 1 members, which is less than n_splits=5.\n",
      "  % (min_groups, self.n_splits)), UserWarning)\n",
      "c:\\users\\sadiqah amira\\appdata\\local\\programs\\python\\python36\\lib\\site-packages\\sklearn\\model_selection\\_split.py:668: UserWarning: The least populated class in y has only 1 members, which is less than n_splits=5.\n",
      "  % (min_groups, self.n_splits)), UserWarning)\n",
      "c:\\users\\sadiqah amira\\appdata\\local\\programs\\python\\python36\\lib\\site-packages\\sklearn\\model_selection\\_split.py:668: UserWarning: The least populated class in y has only 1 members, which is less than n_splits=5.\n",
      "  % (min_groups, self.n_splits)), UserWarning)\n",
      "c:\\users\\sadiqah amira\\appdata\\local\\programs\\python\\python36\\lib\\site-packages\\sklearn\\model_selection\\_split.py:668: UserWarning: The least populated class in y has only 1 members, which is less than n_splits=5.\n",
      "  % (min_groups, self.n_splits)), UserWarning)\n",
      "c:\\users\\sadiqah amira\\appdata\\local\\programs\\python\\python36\\lib\\site-packages\\sklearn\\model_selection\\_split.py:668: UserWarning: The least populated class in y has only 1 members, which is less than n_splits=5.\n",
      "  % (min_groups, self.n_splits)), UserWarning)\n",
      "c:\\users\\sadiqah amira\\appdata\\local\\programs\\python\\python36\\lib\\site-packages\\sklearn\\model_selection\\_split.py:668: UserWarning: The least populated class in y has only 1 members, which is less than n_splits=5.\n",
      "  % (min_groups, self.n_splits)), UserWarning)\n",
      "c:\\users\\sadiqah amira\\appdata\\local\\programs\\python\\python36\\lib\\site-packages\\sklearn\\model_selection\\_split.py:668: UserWarning: The least populated class in y has only 1 members, which is less than n_splits=5.\n",
      "  % (min_groups, self.n_splits)), UserWarning)\n",
      "c:\\users\\sadiqah amira\\appdata\\local\\programs\\python\\python36\\lib\\site-packages\\sklearn\\model_selection\\_split.py:668: UserWarning: The least populated class in y has only 1 members, which is less than n_splits=5.\n",
      "  % (min_groups, self.n_splits)), UserWarning)\n",
      "c:\\users\\sadiqah amira\\appdata\\local\\programs\\python\\python36\\lib\\site-packages\\sklearn\\model_selection\\_split.py:668: UserWarning: The least populated class in y has only 1 members, which is less than n_splits=5.\n",
      "  % (min_groups, self.n_splits)), UserWarning)\n",
      "c:\\users\\sadiqah amira\\appdata\\local\\programs\\python\\python36\\lib\\site-packages\\sklearn\\model_selection\\_split.py:668: UserWarning: The least populated class in y has only 1 members, which is less than n_splits=5.\n",
      "  % (min_groups, self.n_splits)), UserWarning)\n",
      "c:\\users\\sadiqah amira\\appdata\\local\\programs\\python\\python36\\lib\\site-packages\\sklearn\\model_selection\\_split.py:668: UserWarning: The least populated class in y has only 1 members, which is less than n_splits=5.\n",
      "  % (min_groups, self.n_splits)), UserWarning)\n",
      "c:\\users\\sadiqah amira\\appdata\\local\\programs\\python\\python36\\lib\\site-packages\\sklearn\\model_selection\\_split.py:668: UserWarning: The least populated class in y has only 1 members, which is less than n_splits=5.\n",
      "  % (min_groups, self.n_splits)), UserWarning)\n",
      "c:\\users\\sadiqah amira\\appdata\\local\\programs\\python\\python36\\lib\\site-packages\\sklearn\\model_selection\\_split.py:668: UserWarning: The least populated class in y has only 1 members, which is less than n_splits=5.\n",
      "  % (min_groups, self.n_splits)), UserWarning)\n",
      "c:\\users\\sadiqah amira\\appdata\\local\\programs\\python\\python36\\lib\\site-packages\\sklearn\\model_selection\\_split.py:668: UserWarning: The least populated class in y has only 1 members, which is less than n_splits=5.\n",
      "  % (min_groups, self.n_splits)), UserWarning)\n",
      "c:\\users\\sadiqah amira\\appdata\\local\\programs\\python\\python36\\lib\\site-packages\\sklearn\\model_selection\\_split.py:668: UserWarning: The least populated class in y has only 1 members, which is less than n_splits=5.\n",
      "  % (min_groups, self.n_splits)), UserWarning)\n",
      "c:\\users\\sadiqah amira\\appdata\\local\\programs\\python\\python36\\lib\\site-packages\\sklearn\\model_selection\\_split.py:668: UserWarning: The least populated class in y has only 1 members, which is less than n_splits=5.\n",
      "  % (min_groups, self.n_splits)), UserWarning)\n",
      "c:\\users\\sadiqah amira\\appdata\\local\\programs\\python\\python36\\lib\\site-packages\\sklearn\\model_selection\\_split.py:668: UserWarning: The least populated class in y has only 1 members, which is less than n_splits=5.\n",
      "  % (min_groups, self.n_splits)), UserWarning)\n",
      "c:\\users\\sadiqah amira\\appdata\\local\\programs\\python\\python36\\lib\\site-packages\\sklearn\\model_selection\\_split.py:668: UserWarning: The least populated class in y has only 1 members, which is less than n_splits=5.\n",
      "  % (min_groups, self.n_splits)), UserWarning)\n",
      "c:\\users\\sadiqah amira\\appdata\\local\\programs\\python\\python36\\lib\\site-packages\\sklearn\\model_selection\\_split.py:668: UserWarning: The least populated class in y has only 1 members, which is less than n_splits=5.\n",
      "  % (min_groups, self.n_splits)), UserWarning)\n",
      "c:\\users\\sadiqah amira\\appdata\\local\\programs\\python\\python36\\lib\\site-packages\\sklearn\\model_selection\\_split.py:668: UserWarning: The least populated class in y has only 1 members, which is less than n_splits=5.\n",
      "  % (min_groups, self.n_splits)), UserWarning)\n"
     ]
    },
    {
     "data": {
      "image/png": "[encoded data removed]",
      "text/plain": [
       "<Figure size 1080x720 with 6 Axes>"
      ]
     },
     "metadata": {
      "needs_background": "light"
     },
     "output_type": "display_data"
    }
   ],
   "source": [
    "c_list = [0.01, 1, 5, 10, 20, 50, 100, 1000, 5000, 10000]\n",
    "gamma_list = [0.0001, 0.001, 0.01, 0.1, 1, 10]\n",
    "\n",
    "i = 0\n",
    "plt.figure(figsize=(15,10))\n",
    "\n",
    "for gamma_value in gamma_list:\n",
    "\n",
    "  i = i + 1\n",
    "  scores = list()\n",
    "  score_stds = list()\n",
    "  score_tests = list()\n",
    "\n",
    "  for c_value in c_list:\n",
    "\n",
    "    clf_cv = SVC(C=c_value, gamma=gamma_value)\n",
    "    cv_score = cross_val_score(clf_cv, X_train, y_train)\n",
    "    scores.append(np.mean(cv_score))\n",
    "    score_stds.append(np.std(cv_score))\n",
    "    clf_cv.fit(X_train, y_train)\n",
    "    score_test = clf_cv.score(X_test, y_test)\n",
    "    score_tests.append(score_test)\n",
    "\n",
    "  plt.subplot(2,3,i)\n",
    "  plt.semilogx(c_list, scores, 'b')\n",
    "  plt.semilogx(c_list, score_tests, 'r')\n",
    "  plt.semilogx(c_list, np.array(scores)+np.array(score_stds), 'b--')\n",
    "  plt.semilogx(c_list, np.array(scores)+-np.array(score_stds), 'b--')\n",
    "  plt.title('Gamma = {}'.format(gamma_value))\n",
    "  plt.xlabel('C values')\n",
    "  plt.ylabel('Accuracy')\n",
    "  plt.ylim(0,1.1)\n",
    "\n",
    "plt.show()\n"
   ]
  },
  {
   "cell_type": "markdown",
   "metadata": {},
   "source": [
    "Gamma = 1 and C = 10 give the best accuracy."
   ]
  },
  {
   "cell_type": "markdown",
   "metadata": {},
   "source": [
    "SVM classifier training"
   ]
  },
  {
   "cell_type": "code",
   "execution_count": 22,
   "metadata": {},
   "outputs": [
    {
     "data": {
      "text/plain": [
       "SVC(C=10, gamma=1)"
      ]
     },
     "execution_count": 22,
     "metadata": {},
     "output_type": "execute_result"
    }
   ],
   "source": [
    "clf = SVC(C=10, gamma=1)\n",
    "clf.fit(X_train, y_train)"
   ]
  },
  {
   "cell_type": "code",
   "execution_count": 33,
   "metadata": {},
   "outputs": [],
   "source": [
    "def plot_confusion_matrix(cm, classes,normalize,\n",
    "                          title='Confusion matrix',\n",
    "                          cmap=plt.cm.Blues):\n",
    "    \"\"\"\n",
    "    This function prints and plots the confusion matrix.\n",
    "    Normalization can be applied by setting `normalize=True`.\n",
    "    \"\"\"\n",
    "    import itertools\n",
    "\n",
    "    if normalize:\n",
    "        cm = cm.astype('float') / cm.sum(axis=1)[:, np.newaxis]\n",
    "        print(\"Normalized confusion matrix\")\n",
    "    else:\n",
    "        print('Confusion matrix, without normalization')\n",
    "\n",
    "    plt.imshow(cm, interpolation='nearest', cmap=cmap)\n",
    "    plt.title(title)\n",
    "    plt.colorbar()\n",
    "    tick_marks = np.arange(len(classes))\n",
    "    plt.xticks(tick_marks, classes)\n",
    "    plt.yticks(tick_marks, classes)\n",
    "    fmt = '.2f' if normalize else 'd'\n",
    "    thresh = cm.max() / 2.\n",
    "    for i, j in itertools.product(range(cm.shape[0]), range(cm.shape[1])):\n",
    "        plt.text(j, i, format(cm[i, j], fmt),\n",
    "                 horizontalalignment=\"center\", verticalalignment=\"center\",\n",
    "                 color=\"white\" if cm[i, j] > thresh else \"black\")\n",
    "    plt.ylabel('True label')\n",
    "    plt.xlabel('Predicted label')"
   ]
  },
  {
   "cell_type": "code",
   "execution_count": 24,
   "metadata": {
    "scrolled": true
   },
   "outputs": [
    {
     "name": "stderr",
     "output_type": "stream",
     "text": [
      "c:\\users\\sadiqah amira\\appdata\\local\\programs\\python\\python36\\lib\\site-packages\\sklearn\\metrics\\_classification.py:1245: UndefinedMetricWarning: Precision and F-score are ill-defined and being set to 0.0 in labels with no predicted samples. Use `zero_division` parameter to control this behavior.\n",
      "  _warn_prf(average, modifier, msg_start, len(result))\n",
      "c:\\users\\sadiqah amira\\appdata\\local\\programs\\python\\python36\\lib\\site-packages\\sklearn\\metrics\\_classification.py:1245: UndefinedMetricWarning: Precision and F-score are ill-defined and being set to 0.0 in labels with no predicted samples. Use `zero_division` parameter to control this behavior.\n",
      "  _warn_prf(average, modifier, msg_start, len(result))\n",
      "c:\\users\\sadiqah amira\\appdata\\local\\programs\\python\\python36\\lib\\site-packages\\sklearn\\metrics\\_classification.py:1245: UndefinedMetricWarning: Precision and F-score are ill-defined and being set to 0.0 in labels with no predicted samples. Use `zero_division` parameter to control this behavior.\n",
      "  _warn_prf(average, modifier, msg_start, len(result))\n"
     ]
    },
    {
     "name": "stdout",
     "output_type": "stream",
     "text": [
      "                precision    recall  f1-score   support\n",
      "\n",
      "        Global       0.48      0.30      0.37        46\n",
      "News, Malaysia       1.00      0.47      0.64        15\n",
      "       Cluster       0.56      0.40      0.47        25\n",
      "       Vaccine       1.00      0.50      0.67         6\n",
      "        Deaths       0.88      0.20      0.33        35\n",
      "         Cases       0.82      0.97      0.89       462\n",
      " Entertainment       0.00      0.00      0.00         2\n",
      "       Politic       0.67      0.17      0.27        35\n",
      "\n",
      "      accuracy                           0.79       626\n",
      "     macro avg       0.67      0.38      0.45       626\n",
      "  weighted avg       0.78      0.79      0.76       626\n",
      "\n",
      "Normalized confusion matrix\n"
     ]
    },
    {
     "data": {
      "image/png": "[encoded data removed]",
      "text/plain": [
       "<Figure size 432x288 with 2 Axes>"
      ]
     },
     "metadata": {
      "needs_background": "light"
     },
     "output_type": "display_data"
    }
   ],
   "source": [
    "pred_test = clf.predict(X_test)\n",
    "target_list = ['Global',\n",
    " 'News, Malaysia',\n",
    " 'Cluster',\n",
    " 'Vaccine',\n",
    " 'Deaths',\n",
    " 'Cases',\n",
    " 'Entertainment',\n",
    " 'Politic']\n",
    "print(classification_report(y_test, pred_test, target_names=target_list))\n",
    "cm_test_SVM = confusion_matrix(y_test, pred_test)\n",
    "plot_confusion_matrix(cm_test_SVM, target_list, normalize=True)"
   ]
  },
  {
   "cell_type": "markdown",
   "metadata": {},
   "source": [
    "Random forest (RF) parameter optimization"
   ]
  },
  {
   "cell_type": "code",
   "execution_count": 25,
   "metadata": {},
   "outputs": [
    {
     "data": {
      "image/png": "[encoded data removed]",
      "text/plain": [
       "<Figure size 1080x360 with 4 Axes>"
      ]
     },
     "metadata": {
      "needs_background": "light"
     },
     "output_type": "display_data"
    }
   ],
   "source": [
    "max_depths = [2, 3, 4]\n",
    "n_estimators_list = [100, 500, 1000, 2000, 5000]\n",
    "\n",
    "i = 0\n",
    "plt.figure(figsize=(15,5))\n",
    "\n",
    "for depth in max_depths:\n",
    "\n",
    "  i = i + 1\n",
    "  scores = list()\n",
    "  score_tests = list()\n",
    "\n",
    "  for est in n_estimators_list:\n",
    "\n",
    "    params = {'n_estimators': est, ##  number of iterations, int, default=100\n",
    "          'max_depth': depth, ##  int, default=3\n",
    "          }\n",
    "    clf_cv = ensemble.RandomForestClassifier(**params)\n",
    "    clf_cv.fit(X_train, y_train)\n",
    "    cv_score = clf_cv.score(X_train, y_train)\n",
    "    scores.append(np.mean(cv_score))\n",
    "    score_test = clf_cv.score(X_test, y_test)\n",
    "    score_tests.append(score_test)\n",
    "\n",
    "  plt.subplot(1,4,i)\n",
    "  plt.plot(n_estimators_list, scores, 'b')\n",
    "  plt.plot(n_estimators_list, score_tests, 'r')\n",
    "  plt.title('max depth = {}'.format(depth))\n",
    "  plt.xlabel('n_estimators')\n",
    "  plt.ylabel('Accuracy')\n",
    "  plt.ylim(0,1.1)\n",
    "\n",
    "scores = list()\n",
    "score_tests = list()\n",
    "for est in n_estimators_list:\n",
    "  clf_cv = ensemble.RandomForestClassifier(n_estimators=est)\n",
    "  clf_cv.fit(X_train, y_train)\n",
    "  cv_score = clf_cv.score(X_train, y_train)\n",
    "  scores.append(np.mean(cv_score))\n",
    "  score_test = clf_cv.score(X_test, y_test)\n",
    "  score_tests.append(score_test)\n",
    "plt.subplot(1,4,4)\n",
    "plt.plot(n_estimators_list, scores, 'b')\n",
    "plt.plot(n_estimators_list, score_tests, 'r')\n",
    "plt.title('max depth = {}'.format('None'))\n",
    "plt.xlabel('n_estimators')\n",
    "plt.ylabel('Accuracy')\n",
    "plt.ylim(0,1.1)\n",
    "plt.show()"
   ]
  },
  {
   "cell_type": "markdown",
   "metadata": {},
   "source": [
    "RF classifier training"
   ]
  },
  {
   "cell_type": "code",
   "execution_count": 26,
   "metadata": {
    "scrolled": false
   },
   "outputs": [
    {
     "name": "stderr",
     "output_type": "stream",
     "text": [
      "c:\\users\\sadiqah amira\\appdata\\local\\programs\\python\\python36\\lib\\site-packages\\sklearn\\model_selection\\_split.py:668: UserWarning: The least populated class in y has only 1 members, which is less than n_splits=5.\n",
      "  % (min_groups, self.n_splits)), UserWarning)\n"
     ]
    },
    {
     "name": "stdout",
     "output_type": "stream",
     "text": [
      "[0.75396825 0.816      0.752      0.776      0.768     ]\n"
     ]
    },
    {
     "name": "stderr",
     "output_type": "stream",
     "text": [
      "c:\\users\\sadiqah amira\\appdata\\local\\programs\\python\\python36\\lib\\site-packages\\sklearn\\metrics\\_classification.py:1245: UndefinedMetricWarning: Precision and F-score are ill-defined and being set to 0.0 in labels with no predicted samples. Use `zero_division` parameter to control this behavior.\n",
      "  _warn_prf(average, modifier, msg_start, len(result))\n",
      "c:\\users\\sadiqah amira\\appdata\\local\\programs\\python\\python36\\lib\\site-packages\\sklearn\\metrics\\_classification.py:1245: UndefinedMetricWarning: Precision and F-score are ill-defined and being set to 0.0 in labels with no predicted samples. Use `zero_division` parameter to control this behavior.\n",
      "  _warn_prf(average, modifier, msg_start, len(result))\n",
      "c:\\users\\sadiqah amira\\appdata\\local\\programs\\python\\python36\\lib\\site-packages\\sklearn\\metrics\\_classification.py:1245: UndefinedMetricWarning: Precision and F-score are ill-defined and being set to 0.0 in labels with no predicted samples. Use `zero_division` parameter to control this behavior.\n",
      "  _warn_prf(average, modifier, msg_start, len(result))\n"
     ]
    },
    {
     "name": "stdout",
     "output_type": "stream",
     "text": [
      "              precision    recall  f1-score   support\n",
      "\n",
      "           0       0.47      0.20      0.28        46\n",
      "           1       1.00      0.40      0.57        15\n",
      "           2       0.61      0.44      0.51        25\n",
      "           3       1.00      0.33      0.50         6\n",
      "           4       1.00      0.11      0.21        35\n",
      "           5       0.81      0.97      0.88       462\n",
      "           6       0.00      0.00      0.00         2\n",
      "           7       0.50      0.31      0.39        35\n",
      "\n",
      "    accuracy                           0.78       626\n",
      "   macro avg       0.67      0.35      0.42       626\n",
      "weighted avg       0.77      0.78      0.74       626\n",
      "\n",
      "Normalized confusion matrix\n"
     ]
    },
    {
     "data": {
      "image/png": "[encoded data removed]",
      "text/plain": [
       "<Figure size 432x288 with 2 Axes>"
      ]
     },
     "metadata": {
      "needs_background": "light"
     },
     "output_type": "display_data"
    }
   ],
   "source": [
    "clf_RF = ensemble.RandomForestClassifier(n_estimators=2000)\n",
    "print(cross_val_score(clf_RF, X_train, y_train, cv=5))\n",
    "clf_RF.fit(X_train, y_train)\n",
    "preds_RF = clf_RF.predict(X_test)\n",
    "print(classification_report(y_test, preds_RF))\n",
    "cm_test_RF = confusion_matrix(y_test, preds_RF)\n",
    "plot_confusion_matrix(cm_test_RF, target_list, normalize=True)"
   ]
  },
  {
   "cell_type": "code",
   "execution_count": 27,
   "metadata": {
    "scrolled": false
   },
   "outputs": [
    {
     "name": "stdout",
     "output_type": "stream",
     "text": [
      "                     SVM        RF\n",
      "Global          0.304348  0.195652\n",
      "News, Malaysia  0.466667       0.4\n",
      "Cluster              0.4      0.44\n",
      "Vaccine              0.5  0.333333\n",
      "Deaths               0.2  0.114286\n",
      "Cases           0.974026  0.969697\n",
      "Entertainment          0         0\n",
      "Politic         0.171429  0.314286\n",
      "Accuracy            0.79      0.79\n"
     ]
    }
   ],
   "source": [
    "### To create a data frame recording the correct prediction (normalized) of facies for each machine learning algorithm\n",
    "\n",
    "mod_test_list = ['SVM','RF',]\n",
    "cm_test_list = [cm_test_SVM, cm_test_RF]\n",
    "face_test_list = ['Global',\n",
    " 'News, Malaysia',\n",
    " 'Cluster',\n",
    " 'Vaccine',\n",
    " 'Deaths',\n",
    " 'Cases',\n",
    " 'Entertainment',\n",
    " 'Politic']\n",
    "pred_test_df = pd.DataFrame(index=target_list, columns=mod_test_list)\n",
    "\n",
    "for mod in mod_test_list:\n",
    "  col_index = int(mod_test_list.index(mod))\n",
    "  cm = cm_test_list[col_index]\n",
    "\n",
    "  for face in face_test_list:\n",
    "    row_index = target_list.index(face)\n",
    "    #print(face, row_index, col_index)\n",
    "    pred_test_df.iloc[row_index, col_index] = cm[row_index][row_index]/sum(cm[row_index])\n",
    "\n",
    "### add the accuracy factor\n",
    "df_1 = pd.DataFrame([[0.79, 0.79]], index=['Accuracy'], columns=mod_test_list)    \n",
    "pred_test_df = pred_test_df.append(df_1)\n",
    "\n",
    "print(pred_test_df.head(10))"
   ]
  },
  {
   "cell_type": "markdown",
   "metadata": {},
   "source": [
    "model performance evaluation\n",
    "\n",
    "I will use the diagnosis of confusion matrix from train data set to evaluate the model performance. \n",
    "The diagnosis of confusion matrix points how much percentage of the categories of classes is correctly predicted"
   ]
  },
  {
   "cell_type": "code",
   "execution_count": 28,
   "metadata": {},
   "outputs": [
    {
     "data": {
      "image/png": "[encoded data removed]",
      "text/plain": [
       "<Figure size 720x360 with 1 Axes>"
      ]
     },
     "metadata": {
      "needs_background": "light"
     },
     "output_type": "display_data"
    }
   ],
   "source": [
    "X_ind = np.arange(pred_test_df.shape[0])\n",
    "(pred_df_index_list) = ['Global',\n",
    " 'News, Malaysia',\n",
    " 'Cluster',\n",
    " 'Vaccine',\n",
    " 'Deaths',\n",
    " 'Cases',\n",
    " 'Entertainment',\n",
    " 'Politic','Accuracy']\n",
    "plt.figure(figsize=(10,5))\n",
    "plt.bar(X_ind, pred_test_df['SVM'], color='b', width=0.15)\n",
    "#plt.bar(X_ind+0.15, pred_test_df['GB'], color='r', width=0.15)\n",
    "plt.bar(X_ind+0.3, pred_test_df['RF'], color='g', width=0.15)\n",
    "#plt.bar(X_ind+0.45, pred_test_df['KNN'], color='y', width=0.15)\n",
    "plt.xticks(X_ind, pred_df_index_list)\n",
    "plt.xlabel('Classes')\n",
    "plt.ylabel('Correct predictions')\n",
    "plt.legend(labels=mod_test_list)\n",
    "plt.show()"
   ]
  },
  {
   "cell_type": "markdown",
   "metadata": {},
   "source": [
    "SVM and RF both predict 0 Entertainment, which is consistent for both algorithm\n",
    "SVM, RF present a same accuracy score. \n",
    "\n",
    "SVM could correctly predict much more for (Global), (News, Malaysia), (Vaccine), (Death Cases) than the RF, while RF have the same correct prediction for other classes categories that is Cases.\n"
   ]
  },
  {
   "cell_type": "markdown",
   "metadata": {},
   "source": [
    "# A-B test to evaluate the difference in F1 score:\n",
    "\n",
    "Get the F1 score 100 times for each algorithms\n",
    "A-B test on the average F1 between RF and SVM"
   ]
  },
  {
   "cell_type": "markdown",
   "metadata": {},
   "source": [
    "RANDOM FOREST "
   ]
  },
  {
   "cell_type": "code",
   "execution_count": 30,
   "metadata": {},
   "outputs": [
    {
     "name": "stdout",
     "output_type": "stream",
     "text": [
      "0 0.7936507936507936\n",
      "1 0.7777777777777778\n",
      "2 0.9047619047619048\n",
      "3 0.8095238095238095\n",
      "4 0.8253968253968254\n",
      "5 0.7936507936507936\n",
      "6 0.8095238095238095\n",
      "7 0.8253968253968254\n",
      "8 0.7936507936507936\n",
      "9 0.8095238095238095\n",
      "10 0.746031746031746\n",
      "11 0.7936507936507936\n",
      "12 0.8412698412698413\n",
      "13 0.746031746031746\n",
      "14 0.8095238095238095\n",
      "15 0.8571428571428571\n",
      "16 0.7777777777777778\n",
      "17 0.6984126984126984\n",
      "18 0.8095238095238095\n",
      "19 0.8888888888888888\n",
      "20 0.7936507936507936\n",
      "21 0.7936507936507936\n",
      "22 0.8412698412698413\n",
      "23 0.8412698412698413\n",
      "24 0.8253968253968254\n",
      "25 0.8095238095238095\n",
      "26 0.8253968253968254\n",
      "27 0.7777777777777778\n",
      "28 0.873015873015873\n",
      "29 0.7777777777777778\n",
      "30 0.8253968253968254\n",
      "31 0.873015873015873\n",
      "32 0.7777777777777778\n",
      "33 0.7777777777777778\n",
      "34 0.8412698412698413\n",
      "35 0.6984126984126984\n",
      "36 0.7777777777777778\n",
      "37 0.8412698412698413\n",
      "38 0.8253968253968254\n",
      "39 0.8412698412698413\n",
      "40 0.7936507936507936\n",
      "41 0.9206349206349206\n",
      "42 0.7777777777777778\n",
      "43 0.6984126984126984\n",
      "44 0.7301587301587301\n",
      "45 0.8095238095238095\n",
      "46 0.8253968253968254\n",
      "47 0.7777777777777778\n",
      "48 0.8571428571428571\n",
      "49 0.7777777777777778\n",
      "50 0.7936507936507936\n",
      "51 0.7936507936507936\n",
      "52 0.746031746031746\n",
      "53 0.8095238095238095\n",
      "54 0.7936507936507936\n",
      "55 0.746031746031746\n",
      "56 0.746031746031746\n",
      "57 0.9047619047619048\n",
      "58 0.7777777777777778\n",
      "59 0.746031746031746\n",
      "60 0.7619047619047619\n",
      "61 0.8095238095238095\n",
      "62 0.8095238095238095\n",
      "63 0.7777777777777778\n",
      "64 0.7777777777777778\n",
      "65 0.8095238095238095\n",
      "66 0.8253968253968254\n",
      "67 0.8571428571428571\n",
      "68 0.8412698412698413\n",
      "69 0.7777777777777778\n",
      "70 0.8253968253968254\n",
      "71 0.746031746031746\n",
      "72 0.8571428571428571\n",
      "73 0.7619047619047619\n",
      "74 0.7619047619047619\n",
      "75 0.746031746031746\n",
      "76 0.8095238095238095\n",
      "77 0.7936507936507936\n",
      "78 0.7619047619047619\n",
      "79 0.8095238095238095\n",
      "80 0.8253968253968254\n",
      "81 0.8253968253968254\n",
      "82 0.8571428571428571\n",
      "83 0.8095238095238095\n",
      "84 0.7619047619047619\n",
      "85 0.6984126984126984\n",
      "86 0.746031746031746\n",
      "87 0.8253968253968254\n",
      "88 0.8412698412698413\n",
      "89 0.8571428571428571\n",
      "90 0.8571428571428571\n",
      "91 0.8253968253968254\n",
      "92 0.8571428571428571\n",
      "93 0.7777777777777778\n",
      "94 0.7936507936507936\n",
      "95 0.7936507936507936\n",
      "96 0.7936507936507936\n",
      "97 0.8095238095238095\n",
      "98 0.6825396825396826\n",
      "99 0.8571428571428571\n"
     ]
    }
   ],
   "source": [
    "list0 = []\n",
    "for i in range(0,100,1):\n",
    "  X_train0, X_test0, y_train0, y_test0 = train_test_split(X, y, test_size=0.05)\n",
    "  clf0 = ensemble.RandomForestClassifier(n_estimators=2000)\n",
    "  clf0.fit(X_train0, y_train0)\n",
    "  list0.append(clf0.score(X_test0, y_test0))\n",
    "  print(i, clf0.score(X_test0, y_test0))"
   ]
  },
  {
   "cell_type": "code",
   "execution_count": 31,
   "metadata": {},
   "outputs": [
    {
     "data": {
      "text/plain": [
       "array([[<AxesSubplot:title={'center':'RF'}>]], dtype=object)"
      ]
     },
     "execution_count": 31,
     "metadata": {},
     "output_type": "execute_result"
    },
    {
     "data": {
      "image/png": "[encoded data removed]",
      "text/plain": [
       "<Figure size 432x288 with 1 Axes>"
      ]
     },
     "metadata": {
      "needs_background": "light"
     },
     "output_type": "display_data"
    }
   ],
   "source": [
    "df0 = pd.DataFrame(list0, columns=['RF'])\n",
    "df0.hist()"
   ]
  },
  {
   "cell_type": "code",
   "execution_count": 37,
   "metadata": {},
   "outputs": [],
   "source": [
    "from sklearn.preprocessing import StandardScaler"
   ]
  },
  {
   "cell_type": "code",
   "execution_count": 39,
   "metadata": {},
   "outputs": [],
   "source": [
    "#Data for modelling\n",
    "\n",
    "scaler = StandardScaler(with_mean=False).fit(X)\n",
    "X_stnd = scaler.transform(X)\n",
    "\n",
    "#standarization of data for SVM\n",
    "X_train, X_test, y_train, y_test = train_test_split(X_stnd, y, test_size=0.05, random_state=42)\n",
    "X1_train, X1_test, y1_train, y1_test = train_test_split(X, y, test_size=0.05, random_state=42)"
   ]
  },
  {
   "cell_type": "markdown",
   "metadata": {},
   "source": [
    "SVM"
   ]
  },
  {
   "cell_type": "code",
   "execution_count": 40,
   "metadata": {},
   "outputs": [
    {
     "name": "stdout",
     "output_type": "stream",
     "text": [
      "0 0.7936507936507936\n",
      "1 0.7301587301587301\n",
      "2 0.8095238095238095\n",
      "3 0.6825396825396826\n",
      "4 0.7936507936507936\n",
      "5 0.6984126984126984\n",
      "6 0.7936507936507936\n",
      "7 0.7301587301587301\n",
      "8 0.6349206349206349\n",
      "9 0.7142857142857143\n",
      "10 0.7142857142857143\n",
      "11 0.7777777777777778\n",
      "12 0.6984126984126984\n",
      "13 0.7301587301587301\n",
      "14 0.7142857142857143\n",
      "15 0.6984126984126984\n",
      "16 0.6984126984126984\n",
      "17 0.7619047619047619\n",
      "18 0.7936507936507936\n",
      "19 0.7301587301587301\n",
      "20 0.8253968253968254\n",
      "21 0.7777777777777778\n",
      "22 0.7936507936507936\n",
      "23 0.7619047619047619\n",
      "24 0.8095238095238095\n",
      "25 0.7142857142857143\n",
      "26 0.7936507936507936\n",
      "27 0.8095238095238095\n",
      "28 0.7142857142857143\n",
      "29 0.6984126984126984\n",
      "30 0.6507936507936508\n",
      "31 0.746031746031746\n",
      "32 0.7142857142857143\n",
      "33 0.746031746031746\n",
      "34 0.7142857142857143\n",
      "35 0.7936507936507936\n",
      "36 0.7301587301587301\n",
      "37 0.7936507936507936\n",
      "38 0.746031746031746\n",
      "39 0.7142857142857143\n",
      "40 0.7777777777777778\n",
      "41 0.6825396825396826\n",
      "42 0.8095238095238095\n",
      "43 0.6984126984126984\n",
      "44 0.746031746031746\n",
      "45 0.7301587301587301\n",
      "46 0.7142857142857143\n",
      "47 0.7777777777777778\n",
      "48 0.7142857142857143\n",
      "49 0.6349206349206349\n",
      "50 0.8095238095238095\n",
      "51 0.746031746031746\n",
      "52 0.746031746031746\n",
      "53 0.7936507936507936\n",
      "54 0.746031746031746\n",
      "55 0.7936507936507936\n",
      "56 0.6666666666666666\n",
      "57 0.7301587301587301\n",
      "58 0.7142857142857143\n",
      "59 0.6825396825396826\n",
      "60 0.8253968253968254\n",
      "61 0.6666666666666666\n",
      "62 0.6984126984126984\n",
      "63 0.6825396825396826\n",
      "64 0.8253968253968254\n",
      "65 0.8253968253968254\n",
      "66 0.746031746031746\n",
      "67 0.7619047619047619\n",
      "68 0.7936507936507936\n",
      "69 0.7301587301587301\n",
      "70 0.7936507936507936\n",
      "71 0.7619047619047619\n",
      "72 0.7777777777777778\n",
      "73 0.8253968253968254\n",
      "74 0.6666666666666666\n",
      "75 0.6825396825396826\n",
      "76 0.6984126984126984\n",
      "77 0.8095238095238095\n",
      "78 0.746031746031746\n",
      "79 0.8253968253968254\n",
      "80 0.7619047619047619\n",
      "81 0.7301587301587301\n",
      "82 0.7619047619047619\n",
      "83 0.6825396825396826\n",
      "84 0.8571428571428571\n",
      "85 0.7777777777777778\n",
      "86 0.8095238095238095\n",
      "87 0.6825396825396826\n",
      "88 0.7301587301587301\n",
      "89 0.8412698412698413\n",
      "90 0.7142857142857143\n",
      "91 0.7777777777777778\n",
      "92 0.6666666666666666\n",
      "93 0.7619047619047619\n",
      "94 0.6825396825396826\n",
      "95 0.746031746031746\n",
      "96 0.8571428571428571\n",
      "97 0.7936507936507936\n",
      "98 0.7619047619047619\n",
      "99 0.7142857142857143\n"
     ]
    }
   ],
   "source": [
    "list0 = []\n",
    "for i in range(0,100,1):\n",
    "  X_train0, X_test0, y_train0, y_test0 = train_test_split(X_stnd, y, test_size=0.05)\n",
    "  clf0 = SVC(C=10, gamma=1)\n",
    "  clf0.fit(X_train0, y_train0)\n",
    "  list0.append(clf0.score(X_test0, y_test0))\n",
    "  print(i, clf0.score(X_test0, y_test0))"
   ]
  },
  {
   "cell_type": "code",
   "execution_count": 41,
   "metadata": {},
   "outputs": [
    {
     "data": {
      "text/plain": [
       "array([[<AxesSubplot:title={'center':'SVM'}>]], dtype=object)"
      ]
     },
     "execution_count": 41,
     "metadata": {},
     "output_type": "execute_result"
    },
    {
     "data": {
      "image/png": "[encoded data removed]",
      "text/plain": [
       "<Figure size 432x288 with 1 Axes>"
      ]
     },
     "metadata": {
      "needs_background": "light"
     },
     "output_type": "display_data"
    }
   ],
   "source": [
    "df1 = pd.DataFrame(list0, columns=['SVM'])\n",
    "df1.hist()"
   ]
  },
  {
   "cell_type": "code",
   "execution_count": 43,
   "metadata": {},
   "outputs": [],
   "source": [
    "from scipy import stats"
   ]
  },
  {
   "cell_type": "code",
   "execution_count": 46,
   "metadata": {},
   "outputs": [
    {
     "data": {
      "text/plain": [
       "Ttest_indResult(statistic=7.930732851586143, pvalue=1.566334598297805e-13)"
      ]
     },
     "execution_count": 46,
     "metadata": {},
     "output_type": "execute_result"
    }
   ],
   "source": [
    "stats.ttest_ind(df0['RF'],df1['SVM'])"
   ]
  },
  {
   "cell_type": "code",
   "execution_count": 47,
   "metadata": {},
   "outputs": [],
   "source": [
    "list_RF =[0.7936507936507936\n",
    ",0.7777777777777778\n",
    ",0.9047619047619048\n",
    ",0.8095238095238095\n",
    ",0.8253968253968254\n",
    ",0.7936507936507936\n",
    ",0.8095238095238095\n",
    ",0.8253968253968254\n",
    ",0.7936507936507936\n",
    ",0.8095238095238095\n",
    ",0.746031746031746\n",
    ",0.7936507936507936\n",
    ",0.8412698412698413\n",
    ",0.746031746031746\n",
    ",0.8095238095238095\n",
    ",0.8571428571428571\n",
    ",0.7777777777777778\n",
    ",0.6984126984126984\n",
    ",0.8095238095238095\n",
    ",0.8888888888888888\n",
    ",0.7936507936507936\n",
    ",0.7936507936507936\n",
    ", 0.8412698412698413\n",
    ",0.8412698412698413\n",
    ",0.8253968253968254\n",
    ",0.8095238095238095\n",
    ",0.8253968253968254\n",
    ",0.7777777777777778\n",
    ",0.873015873015873\n",
    ", 0.7777777777777778\n",
    ",0.8253968253968254\n",
    ", 0.873015873015873\n",
    ",0.7777777777777778\n",
    ",0.7777777777777778\n",
    ",0.8412698412698413\n",
    ",0.6984126984126984\n",
    ",0.7777777777777778\n",
    ",0.8412698412698413\n",
    ",0.8253968253968254\n",
    ",0.8412698412698413\n",
    ",0.7936507936507936\n",
    ",0.9206349206349206\n",
    ",0.7777777777777778\n",
    ",0.6984126984126984\n",
    ",0.7301587301587301\n",
    ",0.8095238095238095\n",
    ",0.8253968253968254\n",
    ",0.7777777777777778\n",
    ",0.8571428571428571\n",
    ",0.7777777777777778\n",
    ",0.7936507936507936\n",
    ",0.7936507936507936\n",
    ",0.746031746031746\n",
    ", 0.8095238095238095\n",
    ",0.7936507936507936\n",
    ",0.746031746031746\n",
    ",0.746031746031746\n",
    ",0.9047619047619048\n",
    ",0.7777777777777778\n",
    ",0.746031746031746\n",
    ",0.7619047619047619\n",
    ",0.8095238095238095\n",
    ",0.8095238095238095\n",
    ",0.7777777777777778\n",
    ",0.7777777777777778\n",
    ",0.8095238095238095\n",
    ",0.8253968253968254\n",
    ",0.8571428571428571\n",
    ",0.8412698412698413\n",
    ",0.7777777777777778\n",
    ",0.8253968253968254\n",
    ",0.746031746031746\n",
    ",0.8571428571428571\n",
    ",0.7619047619047619\n",
    ",0.7619047619047619\n",
    ",0.746031746031746\n",
    ",0.8095238095238095\n",
    ", 0.7936507936507936\n",
    ",0.7619047619047619\n",
    ",0.8095238095238095\n",
    ",0.8253968253968254\n",
    ",0.8253968253968254\n",
    ",0.8571428571428571\n",
    ", 0.8095238095238095\n",
    ",0.7619047619047619\n",
    ",0.6984126984126984\n",
    ",0.746031746031746\n",
    ",0.8253968253968254\n",
    ",0.8412698412698413\n",
    ", 0.8571428571428571\n",
    ",0.8571428571428571\n",
    ",0.8253968253968254\n",
    ",0.8571428571428571\n",
    ",0.7777777777777778\n",
    ",0.7936507936507936\n",
    ",0.7936507936507936\n",
    ",0.7936507936507936\n",
    ",0.8095238095238095\n",
    ",0.6825396825396826\n",
    ",0.8571428571428571]"
   ]
  },
  {
   "cell_type": "code",
   "execution_count": 48,
   "metadata": {},
   "outputs": [],
   "source": [
    "list_SVM =[0.7936507936507936\n",
    ",0.7301587301587301\n",
    ",0.8095238095238095\n",
    ",0.6825396825396826\n",
    ",0.7936507936507936\n",
    ",0.6984126984126984\n",
    ",0.7936507936507936\n",
    ",0.7301587301587301\n",
    ",0.6349206349206349\n",
    ",0.7142857142857143\n",
    ",0.7142857142857143\n",
    ",0.7777777777777778\n",
    ",0.6984126984126984\n",
    ",0.7301587301587301\n",
    ",0.7142857142857143\n",
    ",0.6984126984126984\n",
    ",0.6984126984126984\n",
    ",0.7619047619047619\n",
    ",0.7936507936507936\n",
    ",0.7301587301587301\n",
    ",0.8253968253968254\n",
    ",0.7777777777777778\n",
    ",0.7936507936507936\n",
    ", 0.7619047619047619\n",
    ",0.8095238095238095\n",
    ",0.7142857142857143\n",
    ",0.7936507936507936\n",
    ",0.8095238095238095\n",
    ",0.7142857142857143\n",
    ",0.6984126984126984\n",
    ", 0.6507936507936508\n",
    ",0.746031746031746\n",
    ",0.7142857142857143\n",
    ",0.746031746031746\n",
    ",0.7142857142857143\n",
    ", 0.7936507936507936\n",
    ",0.7301587301587301\n",
    ",0.7936507936507936\n",
    ",0.746031746031746\n",
    ",0.7142857142857143\n",
    ",0.7777777777777778\n",
    ",0.6825396825396826\n",
    ",0.8095238095238095\n",
    ",0.6984126984126984\n",
    ",0.746031746031746\n",
    ",0.7301587301587301\n",
    ",0.7142857142857143\n",
    ",0.7777777777777778\n",
    ",0.7142857142857143\n",
    ",0.6349206349206349\n",
    ",0.8095238095238095\n",
    ",0.746031746031746\n",
    ",0.746031746031746\n",
    ",0.7936507936507936\n",
    ",0.746031746031746\n",
    ",0.7936507936507936\n",
    ",0.6666666666666666\n",
    ",0.7301587301587301\n",
    ",0.7142857142857143\n",
    ",0.6825396825396826\n",
    ",0.8253968253968254\n",
    ",0.6666666666666666\n",
    ",0.6984126984126984\n",
    ",0.6825396825396826\n",
    ",0.8253968253968254\n",
    ",0.8253968253968254\n",
    ",0.746031746031746\n",
    ",0.7619047619047619\n",
    ",0.7936507936507936\n",
    ",0.7301587301587301\n",
    ",0.7936507936507936\n",
    ",0.7619047619047619\n",
    ",0.7777777777777778\n",
    ",0.8253968253968254\n",
    ",0.6666666666666666\n",
    ",0.6825396825396826\n",
    ",0.6984126984126984\n",
    ",0.8095238095238095\n",
    ",0.746031746031746\n",
    ",0.8253968253968254\n",
    ",0.7619047619047619\n",
    ",0.7301587301587301\n",
    ", 0.7619047619047619\n",
    ",0.6825396825396826\n",
    ",0.8571428571428571\n",
    ",0.7777777777777778\n",
    ",0.8095238095238095\n",
    ",0.6825396825396826\n",
    ",0.7301587301587301\n",
    ",0.8412698412698413\n",
    ",0.7142857142857143\n",
    ",0.7777777777777778\n",
    ",0.6666666666666666\n",
    ",0.7619047619047619\n",
    ",0.6825396825396826\n",
    ",0.746031746031746\n",
    ",0.8571428571428571\n",
    ",0.7936507936507936\n",
    ",0.7619047619047619\n",
    ",0.7142857142857143]"
   ]
  },
  {
   "cell_type": "code",
   "execution_count": 50,
   "metadata": {},
   "outputs": [],
   "source": [
    "df_RF = pd.DataFrame(list_RF, columns=['RF'])\n",
    "df_GB = pd.DataFrame(list_SVM, columns=['SVM'])"
   ]
  },
  {
   "cell_type": "code",
   "execution_count": 51,
   "metadata": {},
   "outputs": [
    {
     "data": {
      "text/plain": [
       "Ttest_indResult(statistic=7.930732851586143, pvalue=1.566334598297805e-13)"
      ]
     },
     "execution_count": 51,
     "metadata": {},
     "output_type": "execute_result"
    }
   ],
   "source": [
    "from scipy import stats\n",
    "stats.ttest_ind(df_RF['RF'],df_GB['SVM'])"
   ]
  },
  {
   "cell_type": "markdown",
   "metadata": {},
   "source": [
    " Ttest shows difference between between RF and SVM is significant pvalue=pvalue=1.566334598297805e-13"
   ]
  }
 ],
 "metadata": {
  "kernelspec": {
   "display_name": "Python 3",
   "language": "python",
   "name": "python3"
  },
  "language_info": {
   "codemirror_mode": {
    "name": "ipython",
    "version": 3
   },
   "file_extension": ".py",
   "mimetype": "text/x-python",
   "name": "python",
   "nbconvert_exporter": "python",
   "pygments_lexer": "ipython3",
   "version": "3.6.8"
  },
  "widgets": {
   "application/vnd.jupyter.widget-state+json": {
    "state": {},
    "version_major": 2,
    "version_minor": 0
   }
  }
 },
 "nbformat": 4,
 "nbformat_minor": 4
}
